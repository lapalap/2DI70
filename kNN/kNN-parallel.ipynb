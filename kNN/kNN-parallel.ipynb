{
 "cells": [
  {
   "cell_type": "markdown",
   "metadata": {},
   "source": [
    "# k-NN"
   ]
  },
  {
   "cell_type": "markdown",
   "metadata": {},
   "source": [
    "by Kirill Bykov, Oleg Vlasovets, Ilya"
   ]
  },
  {
   "cell_type": "code",
   "execution_count": 1,
   "metadata": {},
   "outputs": [],
   "source": [
    "#imports\n",
    "import pandas as pd #pandas for reading csv file\n",
    "import numpy as np  #numpy for vectorising\n",
    "import seaborn as sns\n",
    "from scipy.spatial import distance_matrix\n",
    "from tqdm import tqdm\n",
    "import math\n",
    "from matplotlib.ticker import MaxNLocator\n",
    "import matplotlib.pyplot as plt\n",
    "import multiprocessing as mp\n",
    "from sklearn.metrics import pairwise_distances\n",
    "%matplotlib inline"
   ]
  },
  {
   "cell_type": "code",
   "execution_count": 2,
   "metadata": {},
   "outputs": [],
   "source": [
    "def read_MNIST(file_path):\n",
    "    df = pd.read_csv(file_path, header = None)\n",
    "    Y = np.array(df[0])\n",
    "    X = np.array(df.iloc[:,1:])\n",
    "    return X, Y\n",
    "\n",
    "def distance(A, B, metric = \"euclidean\"):\n",
    "    if metric == \"euclidean\":\n",
    "        return np.linalg.norm(A-B)\n",
    "\n",
    "def first_most_frequent(arr):\n",
    "    c = 0\n",
    "    num = arr[0]\n",
    "    for i in arr:\n",
    "        amount_times = arr.count(i)\n",
    "        if amount_times > c:\n",
    "            c = amount_times\n",
    "            num = i\n",
    "    return num\n",
    "\n",
    "def accuracy(Y_pred, Y_true):\n",
    "    return np.mean(1 - np.equal(Y_true, Y_pred, dtype=int))\n",
    "\n",
    "def NN_calculation(X_train, chunk_size, partition, p, k, chunk_num):\n",
    "    NN_local = []\n",
    "    X_partition = X_train[chunk_size*chunk_num:chunk_size*(chunk_num+1)]\n",
    "    n_partition = len(X_partition)\n",
    "    for i in range(math.trunc(n_partition/partition)):\n",
    "#         NN = distance_matrix(X_partition[partition*i:partition*(i+1)], X_train, p).argsort()[1:k+1]\n",
    "        NN = [[]]\n",
    "        NN_local.append(NN)\n",
    "        q = (i/partition)*100\n",
    "        print(i)\n",
    "    return NN_local"
   ]
  },
  {
   "cell_type": "code",
   "execution_count": 8,
   "metadata": {},
   "outputs": [],
   "source": [
    "class kNN:\n",
    "    \n",
    "    def __init__(self, X_train, Y_train, p = 2):\n",
    "        self.X_train = X_train/255.\n",
    "        self.Y_train = Y_train\n",
    "        self.length = len(X_train)\n",
    "        self.p = p\n",
    "        self.inner_distances_calculated = False\n",
    "        \n",
    "    def set_minkovsky_parameter(self, p):\n",
    "        self.p = p\n",
    "        self.inner_distances_calculated = False\n",
    "        \n",
    "    def vote(self, NN):\n",
    "        n = len(NN)\n",
    "        votes = np.zeros(n).astype(int)\n",
    "        for i in range(0, n):\n",
    "            votes[i] = first_most_frequent([self.Y_train[j] for j in NN[i]])\n",
    "        return votes\n",
    "    \n",
    "    def predict(self, X_test, k):\n",
    "        X_test = X_test/255.\n",
    "        n_test = len(X_test)\n",
    "        D = np.zeros((n_test, self.length))\n",
    "        NN = np.zeros((n_test,k)).astype(int)\n",
    "#         D = distance_matrix(X_test, self.X_train, self.p)\n",
    "        D = pairwise_distances(X_test, self.X_train, n_jobs = -1, metric = \"minkowski\",\n",
    "                                       p = self.p)\n",
    "        for i in range(0, n_test):\n",
    "            NN[i] = D[i].argsort()[:k]\n",
    "        return self.vote(NN)\n",
    "    \n",
    "    def LOOCV(self, k):\n",
    "        if not self.inner_distances_calculated:\n",
    "            print(\"Calculating distances. This could take some time ...\")\n",
    "#             self.inner_distances = distance_matrix(self.X_train, self.X_train, self.p);\n",
    "            self.inner_distances = pairwise_distances(self.X_train, self.X_train, n_jobs = -1, metric = \"minkowski\",\n",
    "                                       p = self.p)\n",
    "            self.inner_NN = np.zeros((self.length,self.length)).astype(int)\n",
    "            for i in range(0,self.length):\n",
    "                self.inner_NN[i] = self.inner_distances[i].argsort()\n",
    "            self.inner_distances_calculated = True\n",
    "\n",
    "        return self.vote(self.inner_NN[:,1:k+1])\n",
    "    \n",
    "#     def LOOCV_big(self, k):\n",
    "#         if not self.inner_distances_calculated or self.inner_NN.shape[1]<k:\n",
    "#             print(\"Calculating distances. This could take some time ...\")\n",
    "#             self.inner_NN = []\n",
    "#             for i in tqdm(range(self.length)):\n",
    "#                 D = distance_matrix([self.X_train[i]], self.X_train, self.p);\n",
    "#                 NN = D[0].argsort()[1:k+1]\n",
    "#                 self.inner_NN.append(NN)\n",
    "#             self.inner_NN = np.array(self.inner_NN)\n",
    "        \n",
    "#         return self.vote(self.inner_NN[:,:k])\n",
    "\n",
    "    def LOOCV_big(self, k, partition = 500):\n",
    "        if not self.inner_distances_calculated or self.inner_NN.shape[1]<k:\n",
    "            print(\"Calculating distances. This could take some time ...\")\n",
    "            self.inner_NN = []\n",
    "            for i in tqdm(range(math.trunc(self.length/partition))):\n",
    "                D = pairwise_distances(self.X_train[partition*i:partition*(i+1)], self.X_train,n_jobs = -1, metric = \"minkowski\",\n",
    "                                       p = self.p)\n",
    "                for i in range(partition):\n",
    "                    self.inner_NN.append(D[i].argsort()[1:k+1])\n",
    "            self.inner_NN = np.array(self.inner_NN)\n",
    "            self.inner_distances_calculated = True\n",
    "        return self.vote(self.inner_NN[:,:k])\n",
    "    \n",
    "#     def __NN_calculation(X_train, chunk_size, partition, p, k, chunk_num):\n",
    "#         NN_local = []\n",
    "#         X_partition = X_train[chunk_size*chunk_num:chunk_size*(chunk_num+1)]\n",
    "#         n_partition = len(X_partition)\n",
    "#         for i in range(math.trunc(n_partition/partition)):\n",
    "#             NN = distance_matrix(X_partition[partition*i:partition*(i+1)], X_train, p).argsort()[1:k+1]\n",
    "#             NN_local.append(NN)\n",
    "#             q = (i/partition)*100\n",
    "#             if q // 2:\n",
    "#                 print(\"Process is \"+ q+\"% finished\")\n",
    "#         return NN_local\n",
    "    \n",
    "#     def LOOCV_big_parallel(self, k):\n",
    "#         if not self.inner_distances_calculated or self.inner_NN.shape[1]<k:\n",
    "#             print(\"Calculating distances. This could take some time ...\")\n",
    "#             self.inner_NN = []\n",
    "#             partition = 50\n",
    "#             threads = 10\n",
    "#             chunk_size = self.length//threads\n",
    "            \n",
    "#             pool = mp.Pool(processes=threads)\n",
    "#             results = [pool.apply(NN_calculation, args=(X_train, chunk_size, partition, self.p, k, chunk_num, ))\n",
    "#                        for chunk_num in range(threads)]        \n",
    "#         return results"
   ]
  },
  {
   "cell_type": "markdown",
   "metadata": {},
   "source": [
    "### a)"
   ]
  },
  {
   "cell_type": "code",
   "execution_count": 13,
   "metadata": {},
   "outputs": [
    {
     "name": "stderr",
     "output_type": "stream",
     "text": [
      "\n",
      "\n",
      "\n",
      "\n",
      "\n",
      "  0%|          | 0/20 [00:00<?, ?it/s]\u001b[A\u001b[A\u001b[A\u001b[A\u001b[A\n",
      "\n",
      "\n",
      "\n",
      "\n",
      "\n",
      "  0%|          | 0/6 [00:00<?, ?it/s]\u001b[A\u001b[A\u001b[A\u001b[A\u001b[A\u001b[A"
     ]
    },
    {
     "name": "stdout",
     "output_type": "stream",
     "text": [
      "Calculating distances. This could take some time ...\n"
     ]
    },
    {
     "name": "stderr",
     "output_type": "stream",
     "text": [
      "\n",
      "\n",
      "\n",
      "\n",
      "\n",
      "\n",
      " 17%|█▋        | 1/6 [00:05<00:27,  5.50s/it]\u001b[A\u001b[A\u001b[A\u001b[A\u001b[A\u001b[A\n",
      "\n",
      "\n",
      "\n",
      "\n",
      "\n",
      " 33%|███▎      | 2/6 [00:10<00:21,  5.44s/it]\u001b[A\u001b[A\u001b[A\u001b[A\u001b[A\u001b[A\n",
      "\n",
      "\n",
      "\n",
      "\n",
      "\n",
      " 50%|█████     | 3/6 [00:16<00:16,  5.38s/it]\u001b[A\u001b[A\u001b[A\u001b[A\u001b[A\u001b[A\n",
      "\n",
      "\n",
      "\n",
      "\n",
      "\n",
      " 67%|██████▋   | 4/6 [00:21<00:10,  5.29s/it]\u001b[A\u001b[A\u001b[A\u001b[A\u001b[A\u001b[A\n",
      "\n",
      "\n",
      "\n",
      "\n",
      "\n",
      " 83%|████████▎ | 5/6 [00:26<00:05,  5.27s/it]\u001b[A\u001b[A\u001b[A\u001b[A\u001b[A\u001b[A\n",
      "\n",
      "\n",
      "\n",
      "\n",
      "\n",
      "100%|██████████| 6/6 [00:31<00:00,  5.25s/it]\u001b[A\u001b[A\u001b[A\u001b[A\u001b[A\u001b[A\n",
      "\n",
      "\n",
      "\n",
      "\n",
      "\n",
      "\u001b[A\u001b[A\u001b[A\u001b[A\u001b[A\u001b[A\n",
      "\n",
      "\n",
      "\n",
      "\n",
      "  5%|▌         | 1/20 [00:31<10:00, 31.61s/it]\u001b[A\u001b[A\u001b[A\u001b[A\u001b[A\n",
      "\n",
      "\n",
      "\n",
      "\n",
      " 20%|██        | 4/20 [00:31<05:54, 22.14s/it]\u001b[A\u001b[A\u001b[A\u001b[A\u001b[A\n",
      "\n",
      "\n",
      "\n",
      "\n",
      " 40%|████      | 8/20 [00:31<03:06, 15.50s/it]\u001b[A\u001b[A\u001b[A\u001b[A\u001b[A\n",
      "\n",
      "\n",
      "\n",
      "\n",
      " 65%|██████▌   | 13/20 [00:31<01:16, 10.86s/it]\u001b[A\u001b[A\u001b[A\u001b[A\u001b[A\n",
      "\n",
      "\n",
      "\n",
      "\n",
      "100%|██████████| 20/20 [00:32<00:00,  1.60s/it]\u001b[A\u001b[A\u001b[A\u001b[A\u001b[A"
     ]
    },
    {
     "data": {
      "text/plain": [
       "Text(0, 0.5, 'Accuracy')"
      ]
     },
     "execution_count": 13,
     "metadata": {},
     "output_type": "execute_result"
    },
    {
     "data": {
      "image/png": "[encoded data removed]",
      "text/plain": [
       "<Figure size 864x504 with 1 Axes>"
      ]
     },
     "metadata": {
      "needs_background": "light"
     },
     "output_type": "display_data"
    }
   ],
   "source": [
    "fig, ax = plt.subplots(figsize=(12,7))\n",
    "\n",
    "LOOCV_big_results = []\n",
    "X_train, Y_train = read_MNIST(\"data/MNIST_train_small.csv\")\n",
    "classifier = kNN(X_train, Y_train)\n",
    "\n",
    "for k in tqdm(range(20,0,-1)):\n",
    "    Y_pred = classifier.LOOCV_big(k)\n",
    "    LOOCV_big_results.append(accuracy(Y_pred, Y_train))\n",
    "    \n",
    "ax = sns.lineplot(x=[i for i in range(1,21)], y=LOOCV_big_results[::-1])\n",
    "plt.xlabel('k')\n",
    "plt.ylabel('Accuracy')"
   ]
  },
  {
   "cell_type": "code",
   "execution_count": 15,
   "metadata": {},
   "outputs": [
    {
     "data": {
      "text/plain": [
       "Text(0, 0.5, 'Accuracy')"
      ]
     },
     "execution_count": 15,
     "metadata": {},
     "output_type": "execute_result"
    },
    {
     "data": {
      "image/png": "[encoded data removed]",
      "text/plain": [
       "<Figure size 864x504 with 1 Axes>"
      ]
     },
     "metadata": {
      "needs_background": "light"
     },
     "output_type": "display_data"
    }
   ],
   "source": [
    "fig, ax = plt.subplots(figsize=(12,7))\n",
    "\n",
    "ax = sns.lineplot(x=[i for i in range(1,21)], y=LOOCV_big_results[::-1])\n",
    "plt.xticks([i for i in range(1,21)])\n",
    "plt.xlabel('k')\n",
    "plt.ylabel('Loss')"
   ]
  }
 ],
 "metadata": {
  "kernelspec": {
   "display_name": "Python 3",
   "language": "python",
   "name": "python3"
  },
  "language_info": {
   "codemirror_mode": {
    "name": "ipython",
    "version": 3
   },
   "file_extension": ".py",
   "mimetype": "text/x-python",
   "name": "python",
   "nbconvert_exporter": "python",
   "pygments_lexer": "ipython3",
   "version": "3.6.7"
  }
 },
 "nbformat": 4,
 "nbformat_minor": 2
}
