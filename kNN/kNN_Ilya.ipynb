{
 "cells": [
  {
   "cell_type": "markdown",
   "metadata": {},
   "source": [
    "# k-NN"
   ]
  },
  {
   "cell_type": "markdown",
   "metadata": {},
   "source": [
    "by Kirill Bykov, Oleg Vlasovets, Ilya"
   ]
  },
  {
   "cell_type": "code",
   "execution_count": 1,
   "metadata": {},
   "outputs": [],
   "source": [
    "#imports\n",
    "import pandas as pd #pandas for reading csv file\n",
    "import numpy as np  #numpy for vectorising\n",
    "from random import randrange\n",
    "import seaborn as sns\n",
    "from scipy.spatial import distance_matrix\n",
    "from tqdm import tqdm\n",
    "import warnings\n",
    "from matplotlib.ticker import MaxNLocator\n",
    "import matplotlib.pyplot as plt\n",
    "%matplotlib inline"
   ]
  },
  {
   "cell_type": "code",
   "execution_count": 2,
   "metadata": {},
   "outputs": [],
   "source": [
    "def read_MNIST(file_path):\n",
    "    df = pd.read_csv(file_path, header = None)\n",
    "    Y = np.array(df[0])\n",
    "    X = np.array(df.iloc[:,1:])\n",
    "    return X, Y\n",
    "\n",
    "def distance(A, B, metric = \"euclidean\"):\n",
    "    if metric == \"euclidean\":\n",
    "        return np.linalg.norm(A-B)\n",
    "\n",
    "def first_most_frequent(arr):\n",
    "    c = 0\n",
    "    num = arr[0]\n",
    "    for i in arr:\n",
    "        amount_times = arr.count(i)\n",
    "        if amount_times > c:\n",
    "            c = amount_times\n",
    "            num = i\n",
    "    return num\n",
    "\n",
    "def accuracy(Y_pred, Y_true):\n",
    "    return np.mean(1 - np.equal(Y_true, Y_pred, dtype=int))"
   ]
  },
  {
   "cell_type": "code",
   "execution_count": 3,
   "metadata": {},
   "outputs": [],
   "source": [
    "class kNN:\n",
    "    \n",
    "    def __init__(self, X_train, Y_train, p = 2):\n",
    "        self.X_train = X_train\n",
    "        self.Y_train = Y_train\n",
    "        self.length = len(X_train)\n",
    "        self.p = p\n",
    "        self.inner_distances_calculated = False\n",
    "\n",
    "    def vote(self, NN):\n",
    "        n = len(NN)\n",
    "        votes = np.zeros(n).astype(int)\n",
    "        for i in range(0, n):\n",
    "            votes[i] = first_most_frequent([self.Y_train[j] for j in NN[i]])\n",
    "        return votes\n",
    "    \n",
    "    def predict(self, X_test, k):\n",
    "        n_test = len(X_test)\n",
    "        D = np.zeros((n_test, self.length))\n",
    "        NN = np.zeros((n_test,k)).astype(int)\n",
    "        D = distance_matrix(X_test, self.X_train, self.p)\n",
    "        for i in range(0, n_test):\n",
    "            NN[i] = D[i].argsort()[:k]\n",
    "        return self.vote(NN)\n",
    "    \n",
    "    def LOOCV(self, k):\n",
    "        if not self.inner_distances_calculated:\n",
    "            print(\"Calculating distances. This could take some time ...\")\n",
    "            self.inner_distances = distance_matrix(X_train, X_train, self.p);\n",
    "            self.inner_NN = np.zeros((self.length,self.length)).astype(int)\n",
    "            for i in range(0,self.length):\n",
    "                self.inner_NN[i] = self.inner_distances[i].argsort()\n",
    "            self.inner_distances_calculated = True\n",
    "\n",
    "        return self.vote(self.inner_NN[:,1:k+1])\n",
    "    \n",
    "    def LOOCV_big(self, k):\n",
    "        if not self.inner_distances_calculated or self.inner_NN.shape[1]<k:\n",
    "            print(\"Calculating distances. This could take some time ...\")\n",
    "            self.inner_NN = []\n",
    "            for i in range(self.length):\n",
    "                D = distance_matrix([X_train[i]], X_train, self.p);\n",
    "                NN = D[0].argsort()[1:k+1]\n",
    "                self.inner_NN.append(NN)\n",
    "            self.inner_NN = np.array(self.inner_NN)\n",
    "        \n",
    "        return self.vote(self.inner_NN[:,:k])"
   ]
  },
  {
   "cell_type": "markdown",
   "metadata": {},
   "source": [
    "### a)"
   ]
  },
  {
   "cell_type": "code",
   "execution_count": null,
   "metadata": {},
   "outputs": [
    {
     "name": "stderr",
     "output_type": "stream",
     "text": [
      "  5%|▌         | 1/20 [05:06<1:36:54, 306.00s/it]"
     ]
    }
   ],
   "source": [
    "results_test = []\n",
    "results_train = []\n",
    "X_train, Y_train = read_MNIST(\"data/MNIST_train_small.csv\")\n",
    "X_test, Y_test = read_MNIST(\"data/MNIST_test_small.csv\")\n",
    "classifier = kNN(X_train, Y_train)\n",
    "\n",
    "for k in tqdm(range(1,21)):\n",
    "    Y_pred_test = classifier.predict(X_test, k)\n",
    "    results_test.append(accuracy(Y_pred_test, Y_test))\n",
    "    \n",
    "    Y_pred_train = classifier.predict(X_train, k)\n",
    "    results_train.append(accuracy(Y_pred_train, Y_train))\n",
    "\n",
    "ax = sns.lineplot(x=[i for i in range(1,21)], y=results_test, label = 'Test accuracy')\n",
    "ax = sns.lineplot(x=[i for i in range(1,21)], y=results_train, label = 'Train accuracy')\n",
    "ax.yaxis.set_major_locator(MaxNLocator(integer=True))"
   ]
  },
  {
   "cell_type": "markdown",
   "metadata": {},
   "source": [
    "Сделайте только картинку получше"
   ]
  },
  {
   "cell_type": "markdown",
   "metadata": {},
   "source": [
    "## LOOCV"
   ]
  },
  {
   "cell_type": "markdown",
   "metadata": {},
   "source": [
    "*LOOCV* --- метод, который в первый раз считает расстояния между всеми точками, а затем при различных k использует уже посчитанную матрицу расстояний. Так как в памяти храним все расстояния, работает быстро, но только для маленьгоко датасета\n",
    "\n",
    "*LOOCV_big* --- метод для работы с большими датасетами, нужно запускать начиная с максимального k, так как на первом запуске держим в памяти только соседей, и не надо пересчитывать это все для маленьких k"
   ]
  },
  {
   "cell_type": "code",
   "execution_count": 4,
   "metadata": {},
   "outputs": [
    {
     "name": "stderr",
     "output_type": "stream",
     "text": [
      "\r",
      "  0%|          | 0/20 [00:00<?, ?it/s]"
     ]
    },
    {
     "name": "stdout",
     "output_type": "stream",
     "text": [
      "Calculating distances. This could take some time ...\n"
     ]
    },
    {
     "name": "stderr",
     "output_type": "stream",
     "text": [
      "100%|██████████| 20/20 [01:53<00:00,  5.67s/it]\n"
     ]
    },
    {
     "name": "stdout",
     "output_type": "stream",
     "text": [
      "[0.08066666666666666, 0.08066666666666666, 0.073, 0.073, 0.07833333333333334, 0.079, 0.08166666666666667, 0.08233333333333333, 0.08333333333333333, 0.08866666666666667, 0.088, 0.089, 0.09233333333333334, 0.093, 0.09433333333333334, 0.095, 0.09566666666666666, 0.09566666666666666, 0.098, 0.09833333333333333]\n"
     ]
    },
    {
     "data": {
      "image/png": "[encoded data removed]",
      "text/plain": [
       "<Figure size 432x288 with 1 Axes>"
      ]
     },
     "metadata": {
      "needs_background": "light"
     },
     "output_type": "display_data"
    }
   ],
   "source": [
    "LOOCV_results = []\n",
    "X_train, Y_train = read_MNIST(\"data/MNIST_train_small.csv\")\n",
    "classifier = kNN(X_train, Y_train)\n",
    "\n",
    "for k in tqdm(range(1,21)):\n",
    "    Y_pred = classifier.LOOCV(k)\n",
    "    LOOCV_results.append(accuracy(Y_pred, Y_train))\n",
    "\n",
    "ax = sns.lineplot(x=[i for i in range(1,21)], y=LOOCV_results)\n",
    "print(LOOCV_results)"
   ]
  },
  {
   "cell_type": "code",
   "execution_count": 6,
   "metadata": {},
   "outputs": [
    {
     "name": "stderr",
     "output_type": "stream",
     "text": [
      "\n",
      "\n",
      "  0%|          | 0/15 [00:00<?, ?it/s]\n",
      "\n",
      "\n",
      "  0%|          | 0/20 [00:00<?, ?it/s]"
     ]
    },
    {
     "name": "stdout",
     "output_type": "stream",
     "text": [
      "Calculating distances. This could take some time ...\n"
     ]
    },
    {
     "name": "stderr",
     "output_type": "stream",
     "text": [
      "\n",
      "\n",
      "\n",
      "  5%|▌         | 1/20 [01:21<25:50, 81.59s/it]\n",
      "\n",
      "\n",
      " 40%|████      | 8/20 [01:21<11:25, 57.12s/it]\n",
      "\n",
      "\n",
      " 60%|██████    | 12/20 [01:21<05:19, 39.99s/it]\n",
      "\n",
      "\n",
      " 75%|███████▌  | 15/20 [01:21<02:20, 28.01s/it]\n",
      "\n",
      "\n",
      " 90%|█████████ | 18/20 [01:22<00:39, 19.62s/it]\n",
      "\n",
      "\n",
      "100%|██████████| 20/20 [01:22<00:00,  4.11s/it]\n",
      "\n",
      "  7%|▋         | 1/15 [01:22<19:11, 82.24s/it]\n",
      "\n",
      "\n",
      "  0%|          | 0/20 [00:00<?, ?it/s]"
     ]
    },
    {
     "name": "stdout",
     "output_type": "stream",
     "text": [
      "Calculating distances. This could take some time ...\n"
     ]
    },
    {
     "name": "stderr",
     "output_type": "stream",
     "text": [
      "\n",
      "\n",
      "\n",
      "  5%|▌         | 1/20 [01:56<36:45, 116.07s/it]\n",
      "\n",
      "\n",
      " 45%|████▌     | 9/20 [01:56<14:53, 81.25s/it] \n",
      "\n",
      "\n",
      " 65%|██████▌   | 13/20 [01:56<06:38, 56.89s/it]\n",
      "\n",
      "\n",
      " 80%|████████  | 16/20 [01:56<02:39, 39.83s/it]\n",
      "\n",
      "\n",
      " 95%|█████████▌| 19/20 [01:56<00:27, 27.90s/it]\n",
      "\n",
      "\n",
      "100%|██████████| 20/20 [01:56<00:00,  5.83s/it]\n",
      "\n",
      " 13%|█▎        | 2/15 [03:18<20:03, 92.55s/it]\n",
      "\n",
      "\n",
      "  0%|          | 0/20 [00:00<?, ?it/s]"
     ]
    },
    {
     "name": "stdout",
     "output_type": "stream",
     "text": [
      "Calculating distances. This could take some time ...\n"
     ]
    },
    {
     "name": "stderr",
     "output_type": "stream",
     "text": [
      "\n",
      "\n",
      "\n",
      "  5%|▌         | 1/20 [02:02<38:48, 122.56s/it]\n",
      "\n",
      "\n",
      " 40%|████      | 8/20 [02:02<17:09, 85.80s/it] \n",
      "\n",
      "\n",
      " 60%|██████    | 12/20 [02:02<08:00, 60.07s/it]\n",
      "\n",
      "\n",
      " 75%|███████▌  | 15/20 [02:02<03:30, 42.06s/it]\n",
      "\n",
      "\n",
      " 90%|█████████ | 18/20 [02:03<00:58, 29.45s/it]\n",
      "\n",
      "\n",
      "100%|██████████| 20/20 [02:03<00:00,  6.16s/it]\n",
      "\n",
      " 20%|██        | 3/15 [05:21<20:20, 101.73s/it]\n",
      "\n",
      "\n",
      "  0%|          | 0/20 [00:00<?, ?it/s]"
     ]
    },
    {
     "name": "stdout",
     "output_type": "stream",
     "text": [
      "Calculating distances. This could take some time ...\n"
     ]
    },
    {
     "name": "stderr",
     "output_type": "stream",
     "text": [
      "\n",
      "\n",
      "\n",
      "  5%|▌         | 1/20 [02:10<41:10, 130.05s/it]\n",
      "\n",
      "\n",
      " 45%|████▌     | 9/20 [02:10<16:41, 91.04s/it] \n",
      "\n",
      "\n",
      " 65%|██████▌   | 13/20 [02:10<07:26, 63.73s/it]\n",
      "\n",
      "\n",
      " 80%|████████  | 16/20 [02:10<02:58, 44.62s/it]\n",
      "\n",
      "\n",
      " 95%|█████████▌| 19/20 [02:10<00:31, 31.26s/it]\n",
      "\n",
      "\n",
      "100%|██████████| 20/20 [02:10<00:00,  6.53s/it]\n",
      "\n",
      " 27%|██▋       | 4/15 [07:32<20:14, 110.41s/it]\n",
      "\n",
      "\n",
      "  0%|          | 0/20 [00:00<?, ?it/s]"
     ]
    },
    {
     "name": "stdout",
     "output_type": "stream",
     "text": [
      "Calculating distances. This could take some time ...\n"
     ]
    },
    {
     "name": "stderr",
     "output_type": "stream",
     "text": [
      "\n",
      "\n",
      "\n",
      "  5%|▌         | 1/20 [02:07<40:29, 127.84s/it]\n",
      "\n",
      "\n",
      " 40%|████      | 8/20 [02:07<17:53, 89.50s/it] \n",
      "\n",
      "\n",
      " 60%|██████    | 12/20 [02:08<08:21, 62.66s/it]\n",
      "\n",
      "\n",
      " 75%|███████▌  | 15/20 [02:08<03:39, 43.87s/it]\n",
      "\n",
      "\n",
      " 90%|█████████ | 18/20 [02:08<01:01, 30.73s/it]\n",
      "\n",
      "\n",
      "100%|██████████| 20/20 [02:08<00:00,  6.42s/it]\n",
      "\n",
      " 33%|███▎      | 5/15 [09:41<19:18, 115.84s/it]\n",
      "\n",
      "\n",
      "  0%|          | 0/20 [00:00<?, ?it/s]"
     ]
    },
    {
     "name": "stdout",
     "output_type": "stream",
     "text": [
      "Calculating distances. This could take some time ...\n"
     ]
    },
    {
     "name": "stderr",
     "output_type": "stream",
     "text": [
      "\n",
      "\n",
      "\n",
      "  5%|▌         | 1/20 [02:06<39:59, 126.32s/it]\n",
      "\n",
      "\n",
      " 45%|████▌     | 9/20 [02:06<16:12, 88.43s/it] \n",
      "\n",
      "\n",
      " 65%|██████▌   | 13/20 [02:06<07:13, 61.91s/it]\n",
      "\n",
      "\n",
      " 80%|████████  | 16/20 [02:06<02:53, 43.35s/it]\n",
      "\n",
      "\n",
      " 95%|█████████▌| 19/20 [02:06<00:30, 30.36s/it]\n",
      "\n",
      "\n",
      "100%|██████████| 20/20 [02:06<00:00,  6.34s/it]\n",
      "\n",
      " 40%|████      | 6/15 [11:48<17:52, 119.15s/it]\n",
      "\n",
      "\n",
      "  0%|          | 0/20 [00:00<?, ?it/s]"
     ]
    },
    {
     "name": "stdout",
     "output_type": "stream",
     "text": [
      "Calculating distances. This could take some time ...\n"
     ]
    },
    {
     "name": "stderr",
     "output_type": "stream",
     "text": [
      "C:\\ProgramData\\Anaconda3\\lib\\site-packages\\scipy\\spatial\\kdtree.py:74: RuntimeWarning: invalid value encountered in power\n",
      "  return minkowski_distance_p(x, y, p)**(1./p)\n",
      "\n",
      "\n",
      "\n",
      "  5%|▌         | 1/20 [02:10<41:19, 130.48s/it]\n",
      "\n",
      "\n",
      " 45%|████▌     | 9/20 [02:10<16:44, 91.34s/it] \n",
      "\n",
      "\n",
      " 65%|██████▌   | 13/20 [02:10<07:27, 63.94s/it]\n",
      "\n",
      "\n",
      " 80%|████████  | 16/20 [02:10<02:59, 44.77s/it]\n",
      "\n",
      "\n",
      " 95%|█████████▌| 19/20 [02:10<00:31, 31.36s/it]\n",
      "\n",
      "\n",
      "100%|██████████| 20/20 [02:11<00:00,  6.55s/it]\n",
      "\n",
      " 47%|████▋     | 7/15 [13:59<16:21, 122.72s/it]\n",
      "\n",
      "\n",
      "  0%|          | 0/20 [00:00<?, ?it/s]"
     ]
    },
    {
     "name": "stdout",
     "output_type": "stream",
     "text": [
      "Calculating distances. This could take some time ...\n"
     ]
    },
    {
     "name": "stderr",
     "output_type": "stream",
     "text": [
      "\n",
      "\n",
      "\n",
      "  5%|▌         | 1/20 [02:16<43:17, 136.71s/it]\n",
      "\n",
      "\n",
      " 45%|████▌     | 9/20 [02:16<17:32, 95.70s/it] \n",
      "\n",
      "\n",
      " 65%|██████▌   | 13/20 [02:16<07:48, 67.00s/it]\n",
      "\n",
      "\n",
      " 80%|████████  | 16/20 [02:17<03:07, 46.91s/it]\n",
      "\n",
      "\n",
      " 95%|█████████▌| 19/20 [02:17<00:32, 32.85s/it]\n",
      "\n",
      "\n",
      "100%|██████████| 20/20 [02:17<00:00,  6.86s/it]\n",
      "\n",
      " 53%|█████▎    | 8/15 [16:16<14:49, 127.08s/it]\n",
      "\n",
      "\n",
      "  0%|          | 0/20 [00:00<?, ?it/s]"
     ]
    },
    {
     "name": "stdout",
     "output_type": "stream",
     "text": [
      "Calculating distances. This could take some time ...\n"
     ]
    },
    {
     "name": "stderr",
     "output_type": "stream",
     "text": [
      "\n",
      "\n",
      "\n",
      "  5%|▌         | 1/20 [02:14<42:29, 134.21s/it]\n",
      "\n",
      "\n",
      " 45%|████▌     | 9/20 [02:14<17:13, 93.95s/it] \n",
      "\n",
      "\n",
      " 65%|██████▌   | 13/20 [02:14<07:40, 65.77s/it]\n",
      "\n",
      "\n",
      " 80%|████████  | 16/20 [02:14<03:04, 46.05s/it]\n",
      "\n",
      "\n",
      " 95%|█████████▌| 19/20 [02:14<00:32, 32.25s/it]\n",
      "\n",
      "\n",
      "100%|██████████| 20/20 [02:14<00:00,  6.74s/it]\n",
      "\n",
      " 60%|██████    | 9/15 [18:31<12:56, 129.37s/it]\n",
      "\n",
      "\n",
      "  0%|          | 0/20 [00:00<?, ?it/s]"
     ]
    },
    {
     "name": "stdout",
     "output_type": "stream",
     "text": [
      "Calculating distances. This could take some time ...\n"
     ]
    },
    {
     "name": "stderr",
     "output_type": "stream",
     "text": [
      "\n",
      "\n",
      "\n",
      "  5%|▌         | 1/20 [02:12<41:57, 132.52s/it]\n",
      "\n",
      "\n",
      " 45%|████▌     | 9/20 [02:12<17:00, 92.77s/it] \n",
      "\n",
      "\n",
      " 65%|██████▌   | 13/20 [02:12<07:34, 64.95s/it]\n",
      "\n",
      "\n",
      " 80%|████████  | 16/20 [02:12<03:01, 45.48s/it]\n",
      "\n",
      "\n",
      " 95%|█████████▌| 19/20 [02:13<00:31, 31.85s/it]\n",
      "\n",
      "\n",
      "100%|██████████| 20/20 [02:13<00:00,  6.66s/it]\n",
      "\n",
      " 67%|██████▋   | 10/15 [20:44<10:52, 130.50s/it]\n",
      "\n",
      "\n",
      "  0%|          | 0/20 [00:00<?, ?it/s]"
     ]
    },
    {
     "name": "stdout",
     "output_type": "stream",
     "text": [
      "Calculating distances. This could take some time ...\n"
     ]
    },
    {
     "name": "stderr",
     "output_type": "stream",
     "text": [
      "\n",
      "\n",
      "\n",
      "  5%|▌         | 1/20 [02:09<40:53, 129.12s/it]\n",
      "\n",
      "\n",
      " 45%|████▌     | 9/20 [02:09<16:34, 90.39s/it] \n",
      "\n",
      "\n",
      " 65%|██████▌   | 13/20 [02:09<07:22, 63.28s/it]\n",
      "\n",
      "\n",
      " 80%|████████  | 16/20 [02:09<02:57, 44.31s/it]\n",
      "\n",
      "\n",
      " 95%|█████████▌| 19/20 [02:09<00:31, 31.03s/it]\n",
      "\n",
      "\n",
      "100%|██████████| 20/20 [02:09<00:00,  6.48s/it]\n",
      "\n",
      " 73%|███████▎  | 11/15 [22:53<08:40, 130.25s/it]\n",
      "\n",
      "\n",
      "  0%|          | 0/20 [00:00<?, ?it/s]"
     ]
    },
    {
     "name": "stdout",
     "output_type": "stream",
     "text": [
      "Calculating distances. This could take some time ...\n"
     ]
    },
    {
     "name": "stderr",
     "output_type": "stream",
     "text": [
      "\n",
      "\n",
      "\n",
      "  5%|▌         | 1/20 [02:14<42:30, 134.21s/it]\n",
      "\n",
      "\n",
      " 45%|████▌     | 9/20 [02:14<17:13, 93.95s/it] \n",
      "\n",
      "\n",
      " 65%|██████▌   | 13/20 [02:14<07:40, 65.78s/it]\n",
      "\n",
      "\n",
      " 80%|████████  | 16/20 [02:14<03:04, 46.06s/it]\n",
      "\n",
      "\n",
      " 95%|█████████▌| 19/20 [02:14<00:32, 32.26s/it]\n",
      "\n",
      "\n",
      "100%|██████████| 20/20 [02:14<00:00,  6.74s/it]\n",
      "\n",
      " 80%|████████  | 12/15 [25:08<06:34, 131.63s/it]\n",
      "\n",
      "\n",
      "  0%|          | 0/20 [00:00<?, ?it/s]"
     ]
    },
    {
     "name": "stdout",
     "output_type": "stream",
     "text": [
      "Calculating distances. This could take some time ...\n"
     ]
    },
    {
     "name": "stderr",
     "output_type": "stream",
     "text": [
      "\n",
      "\n",
      "\n",
      "  5%|▌         | 1/20 [02:06<40:00, 126.37s/it]\n",
      "\n",
      "\n",
      " 40%|████      | 8/20 [02:06<17:41, 88.46s/it] \n",
      "\n",
      "\n",
      " 65%|██████▌   | 13/20 [02:06<07:13, 61.93s/it]\n",
      "\n",
      "\n",
      " 80%|████████  | 16/20 [02:06<02:53, 43.36s/it]\n",
      "\n",
      "\n",
      " 95%|█████████▌| 19/20 [02:06<00:30, 30.37s/it]\n",
      "\n",
      "\n",
      "100%|██████████| 20/20 [02:06<00:00,  6.35s/it]\n",
      "\n",
      " 87%|████████▋ | 13/15 [27:15<04:20, 130.22s/it]\n",
      "\n",
      "\n",
      "  0%|          | 0/20 [00:00<?, ?it/s]"
     ]
    },
    {
     "name": "stdout",
     "output_type": "stream",
     "text": [
      "Calculating distances. This could take some time ...\n"
     ]
    },
    {
     "name": "stderr",
     "output_type": "stream",
     "text": [
      "\n",
      "\n",
      "\n",
      "  5%|▌         | 1/20 [02:12<41:59, 132.61s/it]\n",
      "\n",
      "\n",
      " 45%|████▌     | 9/20 [02:12<17:01, 92.83s/it] \n",
      "\n",
      "\n",
      " 65%|██████▌   | 13/20 [02:12<07:34, 64.99s/it]\n",
      "\n",
      "\n",
      " 80%|████████  | 16/20 [02:12<03:02, 45.50s/it]\n",
      "\n",
      "\n",
      " 95%|█████████▌| 19/20 [02:13<00:31, 31.87s/it]\n",
      "\n",
      "\n",
      "100%|██████████| 20/20 [02:13<00:00,  6.66s/it]\n",
      "\n",
      " 93%|█████████▎| 14/15 [29:28<02:11, 131.12s/it]\n",
      "\n",
      "\n",
      "  0%|          | 0/20 [00:00<?, ?it/s]"
     ]
    },
    {
     "name": "stdout",
     "output_type": "stream",
     "text": [
      "Calculating distances. This could take some time ...\n"
     ]
    },
    {
     "name": "stderr",
     "output_type": "stream",
     "text": [
      "\n",
      "\n",
      "\n",
      "  5%|▌         | 1/20 [02:11<41:31, 131.14s/it]\n",
      "\n",
      "\n",
      " 40%|████      | 8/20 [02:11<18:21, 91.80s/it] \n",
      "\n",
      "\n",
      " 65%|██████▌   | 13/20 [02:11<07:29, 64.27s/it]\n",
      "\n",
      "\n",
      " 80%|████████  | 16/20 [02:11<03:00, 45.00s/it]\n",
      "\n",
      "\n",
      " 95%|█████████▌| 19/20 [02:11<00:31, 31.52s/it]\n",
      "\n",
      "\n",
      "100%|██████████| 20/20 [02:11<00:00,  6.58s/it]\n",
      "\n",
      "100%|██████████| 15/15 [31:40<00:00, 131.29s/it]\n",
      "\n"
     ]
    },
    {
     "ename": "ValueError",
     "evalue": "arrays must all be same length",
     "output_type": "error",
     "traceback": [
      "\u001b[1;31m---------------------------------------------------------------------------\u001b[0m",
      "\u001b[1;31mValueError\u001b[0m                                Traceback (most recent call last)",
      "\u001b[1;32m<ipython-input-6-2459019c2539>\u001b[0m in \u001b[0;36m<module>\u001b[1;34m\u001b[0m\n\u001b[0;32m     10\u001b[0m     \u001b[0mclassifier\u001b[0m\u001b[1;33m.\u001b[0m\u001b[0minner_distances_calculated\u001b[0m \u001b[1;33m=\u001b[0m \u001b[1;32mFalse\u001b[0m\u001b[1;33m\u001b[0m\u001b[1;33m\u001b[0m\u001b[0m\n\u001b[0;32m     11\u001b[0m \u001b[1;33m\u001b[0m\u001b[0m\n\u001b[1;32m---> 12\u001b[1;33m \u001b[0max\u001b[0m \u001b[1;33m=\u001b[0m \u001b[0msns\u001b[0m\u001b[1;33m.\u001b[0m\u001b[0mlineplot\u001b[0m\u001b[1;33m(\u001b[0m\u001b[0mx\u001b[0m\u001b[1;33m=\u001b[0m\u001b[1;33m[\u001b[0m\u001b[0mi\u001b[0m \u001b[1;32mfor\u001b[0m \u001b[0mi\u001b[0m \u001b[1;32min\u001b[0m \u001b[0mrange\u001b[0m\u001b[1;33m(\u001b[0m\u001b[1;36m1\u001b[0m\u001b[1;33m,\u001b[0m\u001b[1;36m21\u001b[0m\u001b[1;33m)\u001b[0m\u001b[1;33m]\u001b[0m\u001b[1;33m,\u001b[0m \u001b[0my\u001b[0m\u001b[1;33m=\u001b[0m\u001b[0mLOOCV_results_Mink\u001b[0m\u001b[1;33m)\u001b[0m\u001b[1;33m\u001b[0m\u001b[1;33m\u001b[0m\u001b[0m\n\u001b[0m\u001b[0;32m     13\u001b[0m \u001b[0mprint\u001b[0m\u001b[1;33m(\u001b[0m\u001b[0mLOOCV_results_Mink\u001b[0m\u001b[1;33m)\u001b[0m\u001b[1;33m\u001b[0m\u001b[1;33m\u001b[0m\u001b[0m\n",
      "\u001b[1;32mC:\\ProgramData\\Anaconda3\\lib\\site-packages\\seaborn\\relational.py\u001b[0m in \u001b[0;36mlineplot\u001b[1;34m(x, y, hue, size, style, data, palette, hue_order, hue_norm, sizes, size_order, size_norm, dashes, markers, style_order, units, estimator, ci, n_boot, sort, err_style, err_kws, legend, ax, **kwargs)\u001b[0m\n\u001b[0;32m   1076\u001b[0m         \u001b[0mdashes\u001b[0m\u001b[1;33m=\u001b[0m\u001b[0mdashes\u001b[0m\u001b[1;33m,\u001b[0m \u001b[0mmarkers\u001b[0m\u001b[1;33m=\u001b[0m\u001b[0mmarkers\u001b[0m\u001b[1;33m,\u001b[0m \u001b[0mstyle_order\u001b[0m\u001b[1;33m=\u001b[0m\u001b[0mstyle_order\u001b[0m\u001b[1;33m,\u001b[0m\u001b[1;33m\u001b[0m\u001b[1;33m\u001b[0m\u001b[0m\n\u001b[0;32m   1077\u001b[0m         \u001b[0munits\u001b[0m\u001b[1;33m=\u001b[0m\u001b[0munits\u001b[0m\u001b[1;33m,\u001b[0m \u001b[0mestimator\u001b[0m\u001b[1;33m=\u001b[0m\u001b[0mestimator\u001b[0m\u001b[1;33m,\u001b[0m \u001b[0mci\u001b[0m\u001b[1;33m=\u001b[0m\u001b[0mci\u001b[0m\u001b[1;33m,\u001b[0m \u001b[0mn_boot\u001b[0m\u001b[1;33m=\u001b[0m\u001b[0mn_boot\u001b[0m\u001b[1;33m,\u001b[0m\u001b[1;33m\u001b[0m\u001b[1;33m\u001b[0m\u001b[0m\n\u001b[1;32m-> 1078\u001b[1;33m         \u001b[0msort\u001b[0m\u001b[1;33m=\u001b[0m\u001b[0msort\u001b[0m\u001b[1;33m,\u001b[0m \u001b[0merr_style\u001b[0m\u001b[1;33m=\u001b[0m\u001b[0merr_style\u001b[0m\u001b[1;33m,\u001b[0m \u001b[0merr_kws\u001b[0m\u001b[1;33m=\u001b[0m\u001b[0merr_kws\u001b[0m\u001b[1;33m,\u001b[0m \u001b[0mlegend\u001b[0m\u001b[1;33m=\u001b[0m\u001b[0mlegend\u001b[0m\u001b[1;33m,\u001b[0m\u001b[1;33m\u001b[0m\u001b[1;33m\u001b[0m\u001b[0m\n\u001b[0m\u001b[0;32m   1079\u001b[0m     )\n\u001b[0;32m   1080\u001b[0m \u001b[1;33m\u001b[0m\u001b[0m\n",
      "\u001b[1;32mC:\\ProgramData\\Anaconda3\\lib\\site-packages\\seaborn\\relational.py\u001b[0m in \u001b[0;36m__init__\u001b[1;34m(self, x, y, hue, size, style, data, palette, hue_order, hue_norm, sizes, size_order, size_norm, dashes, markers, style_order, units, estimator, ci, n_boot, sort, err_style, err_kws, legend)\u001b[0m\n\u001b[0;32m    661\u001b[0m \u001b[1;33m\u001b[0m\u001b[0m\n\u001b[0;32m    662\u001b[0m         plot_data = self.establish_variables(\n\u001b[1;32m--> 663\u001b[1;33m             \u001b[0mx\u001b[0m\u001b[1;33m,\u001b[0m \u001b[0my\u001b[0m\u001b[1;33m,\u001b[0m \u001b[0mhue\u001b[0m\u001b[1;33m,\u001b[0m \u001b[0msize\u001b[0m\u001b[1;33m,\u001b[0m \u001b[0mstyle\u001b[0m\u001b[1;33m,\u001b[0m \u001b[0munits\u001b[0m\u001b[1;33m,\u001b[0m \u001b[0mdata\u001b[0m\u001b[1;33m\u001b[0m\u001b[1;33m\u001b[0m\u001b[0m\n\u001b[0m\u001b[0;32m    664\u001b[0m         )\n\u001b[0;32m    665\u001b[0m \u001b[1;33m\u001b[0m\u001b[0m\n",
      "\u001b[1;32mC:\\ProgramData\\Anaconda3\\lib\\site-packages\\seaborn\\relational.py\u001b[0m in \u001b[0;36mestablish_variables\u001b[1;34m(self, x, y, hue, size, style, units, data)\u001b[0m\n\u001b[0;32m    155\u001b[0m                 \u001b[0munits\u001b[0m\u001b[1;33m=\u001b[0m\u001b[0munits\u001b[0m\u001b[1;33m\u001b[0m\u001b[1;33m\u001b[0m\u001b[0m\n\u001b[0;32m    156\u001b[0m             )\n\u001b[1;32m--> 157\u001b[1;33m             \u001b[0mplot_data\u001b[0m \u001b[1;33m=\u001b[0m \u001b[0mpd\u001b[0m\u001b[1;33m.\u001b[0m\u001b[0mDataFrame\u001b[0m\u001b[1;33m(\u001b[0m\u001b[0mplot_data\u001b[0m\u001b[1;33m)\u001b[0m\u001b[1;33m\u001b[0m\u001b[1;33m\u001b[0m\u001b[0m\n\u001b[0m\u001b[0;32m    158\u001b[0m \u001b[1;33m\u001b[0m\u001b[0m\n\u001b[0;32m    159\u001b[0m         \u001b[1;31m# Option 3:\u001b[0m\u001b[1;33m\u001b[0m\u001b[1;33m\u001b[0m\u001b[1;33m\u001b[0m\u001b[0m\n",
      "\u001b[1;32mC:\\ProgramData\\Anaconda3\\lib\\site-packages\\pandas\\core\\frame.py\u001b[0m in \u001b[0;36m__init__\u001b[1;34m(self, data, index, columns, dtype, copy)\u001b[0m\n\u001b[0;32m    346\u001b[0m                                  dtype=dtype, copy=copy)\n\u001b[0;32m    347\u001b[0m         \u001b[1;32melif\u001b[0m \u001b[0misinstance\u001b[0m\u001b[1;33m(\u001b[0m\u001b[0mdata\u001b[0m\u001b[1;33m,\u001b[0m \u001b[0mdict\u001b[0m\u001b[1;33m)\u001b[0m\u001b[1;33m:\u001b[0m\u001b[1;33m\u001b[0m\u001b[1;33m\u001b[0m\u001b[0m\n\u001b[1;32m--> 348\u001b[1;33m             \u001b[0mmgr\u001b[0m \u001b[1;33m=\u001b[0m \u001b[0mself\u001b[0m\u001b[1;33m.\u001b[0m\u001b[0m_init_dict\u001b[0m\u001b[1;33m(\u001b[0m\u001b[0mdata\u001b[0m\u001b[1;33m,\u001b[0m \u001b[0mindex\u001b[0m\u001b[1;33m,\u001b[0m \u001b[0mcolumns\u001b[0m\u001b[1;33m,\u001b[0m \u001b[0mdtype\u001b[0m\u001b[1;33m=\u001b[0m\u001b[0mdtype\u001b[0m\u001b[1;33m)\u001b[0m\u001b[1;33m\u001b[0m\u001b[1;33m\u001b[0m\u001b[0m\n\u001b[0m\u001b[0;32m    349\u001b[0m         \u001b[1;32melif\u001b[0m \u001b[0misinstance\u001b[0m\u001b[1;33m(\u001b[0m\u001b[0mdata\u001b[0m\u001b[1;33m,\u001b[0m \u001b[0mma\u001b[0m\u001b[1;33m.\u001b[0m\u001b[0mMaskedArray\u001b[0m\u001b[1;33m)\u001b[0m\u001b[1;33m:\u001b[0m\u001b[1;33m\u001b[0m\u001b[1;33m\u001b[0m\u001b[0m\n\u001b[0;32m    350\u001b[0m             \u001b[1;32mimport\u001b[0m \u001b[0mnumpy\u001b[0m\u001b[1;33m.\u001b[0m\u001b[0mma\u001b[0m\u001b[1;33m.\u001b[0m\u001b[0mmrecords\u001b[0m \u001b[1;32mas\u001b[0m \u001b[0mmrecords\u001b[0m\u001b[1;33m\u001b[0m\u001b[1;33m\u001b[0m\u001b[0m\n",
      "\u001b[1;32mC:\\ProgramData\\Anaconda3\\lib\\site-packages\\pandas\\core\\frame.py\u001b[0m in \u001b[0;36m_init_dict\u001b[1;34m(self, data, index, columns, dtype)\u001b[0m\n\u001b[0;32m    457\u001b[0m             \u001b[0marrays\u001b[0m \u001b[1;33m=\u001b[0m \u001b[1;33m[\u001b[0m\u001b[0mdata\u001b[0m\u001b[1;33m[\u001b[0m\u001b[0mk\u001b[0m\u001b[1;33m]\u001b[0m \u001b[1;32mfor\u001b[0m \u001b[0mk\u001b[0m \u001b[1;32min\u001b[0m \u001b[0mkeys\u001b[0m\u001b[1;33m]\u001b[0m\u001b[1;33m\u001b[0m\u001b[1;33m\u001b[0m\u001b[0m\n\u001b[0;32m    458\u001b[0m \u001b[1;33m\u001b[0m\u001b[0m\n\u001b[1;32m--> 459\u001b[1;33m         \u001b[1;32mreturn\u001b[0m \u001b[0m_arrays_to_mgr\u001b[0m\u001b[1;33m(\u001b[0m\u001b[0marrays\u001b[0m\u001b[1;33m,\u001b[0m \u001b[0mdata_names\u001b[0m\u001b[1;33m,\u001b[0m \u001b[0mindex\u001b[0m\u001b[1;33m,\u001b[0m \u001b[0mcolumns\u001b[0m\u001b[1;33m,\u001b[0m \u001b[0mdtype\u001b[0m\u001b[1;33m=\u001b[0m\u001b[0mdtype\u001b[0m\u001b[1;33m)\u001b[0m\u001b[1;33m\u001b[0m\u001b[1;33m\u001b[0m\u001b[0m\n\u001b[0m\u001b[0;32m    460\u001b[0m \u001b[1;33m\u001b[0m\u001b[0m\n\u001b[0;32m    461\u001b[0m     \u001b[1;32mdef\u001b[0m \u001b[0m_init_ndarray\u001b[0m\u001b[1;33m(\u001b[0m\u001b[0mself\u001b[0m\u001b[1;33m,\u001b[0m \u001b[0mvalues\u001b[0m\u001b[1;33m,\u001b[0m \u001b[0mindex\u001b[0m\u001b[1;33m,\u001b[0m \u001b[0mcolumns\u001b[0m\u001b[1;33m,\u001b[0m \u001b[0mdtype\u001b[0m\u001b[1;33m=\u001b[0m\u001b[1;32mNone\u001b[0m\u001b[1;33m,\u001b[0m \u001b[0mcopy\u001b[0m\u001b[1;33m=\u001b[0m\u001b[1;32mFalse\u001b[0m\u001b[1;33m)\u001b[0m\u001b[1;33m:\u001b[0m\u001b[1;33m\u001b[0m\u001b[1;33m\u001b[0m\u001b[0m\n",
      "\u001b[1;32mC:\\ProgramData\\Anaconda3\\lib\\site-packages\\pandas\\core\\frame.py\u001b[0m in \u001b[0;36m_arrays_to_mgr\u001b[1;34m(arrays, arr_names, index, columns, dtype)\u001b[0m\n\u001b[0;32m   7354\u001b[0m     \u001b[1;31m# figure out the index, if necessary\u001b[0m\u001b[1;33m\u001b[0m\u001b[1;33m\u001b[0m\u001b[1;33m\u001b[0m\u001b[0m\n\u001b[0;32m   7355\u001b[0m     \u001b[1;32mif\u001b[0m \u001b[0mindex\u001b[0m \u001b[1;32mis\u001b[0m \u001b[1;32mNone\u001b[0m\u001b[1;33m:\u001b[0m\u001b[1;33m\u001b[0m\u001b[1;33m\u001b[0m\u001b[0m\n\u001b[1;32m-> 7356\u001b[1;33m         \u001b[0mindex\u001b[0m \u001b[1;33m=\u001b[0m \u001b[0mextract_index\u001b[0m\u001b[1;33m(\u001b[0m\u001b[0marrays\u001b[0m\u001b[1;33m)\u001b[0m\u001b[1;33m\u001b[0m\u001b[1;33m\u001b[0m\u001b[0m\n\u001b[0m\u001b[0;32m   7357\u001b[0m \u001b[1;33m\u001b[0m\u001b[0m\n\u001b[0;32m   7358\u001b[0m     \u001b[1;31m# don't force copy because getting jammed in an ndarray anyway\u001b[0m\u001b[1;33m\u001b[0m\u001b[1;33m\u001b[0m\u001b[1;33m\u001b[0m\u001b[0m\n",
      "\u001b[1;32mC:\\ProgramData\\Anaconda3\\lib\\site-packages\\pandas\\core\\frame.py\u001b[0m in \u001b[0;36mextract_index\u001b[1;34m(data)\u001b[0m\n\u001b[0;32m   7400\u001b[0m             \u001b[0mlengths\u001b[0m \u001b[1;33m=\u001b[0m \u001b[0mlist\u001b[0m\u001b[1;33m(\u001b[0m\u001b[0mset\u001b[0m\u001b[1;33m(\u001b[0m\u001b[0mraw_lengths\u001b[0m\u001b[1;33m)\u001b[0m\u001b[1;33m)\u001b[0m\u001b[1;33m\u001b[0m\u001b[1;33m\u001b[0m\u001b[0m\n\u001b[0;32m   7401\u001b[0m             \u001b[1;32mif\u001b[0m \u001b[0mlen\u001b[0m\u001b[1;33m(\u001b[0m\u001b[0mlengths\u001b[0m\u001b[1;33m)\u001b[0m \u001b[1;33m>\u001b[0m \u001b[1;36m1\u001b[0m\u001b[1;33m:\u001b[0m\u001b[1;33m\u001b[0m\u001b[1;33m\u001b[0m\u001b[0m\n\u001b[1;32m-> 7402\u001b[1;33m                 \u001b[1;32mraise\u001b[0m \u001b[0mValueError\u001b[0m\u001b[1;33m(\u001b[0m\u001b[1;34m'arrays must all be same length'\u001b[0m\u001b[1;33m)\u001b[0m\u001b[1;33m\u001b[0m\u001b[1;33m\u001b[0m\u001b[0m\n\u001b[0m\u001b[0;32m   7403\u001b[0m \u001b[1;33m\u001b[0m\u001b[0m\n\u001b[0;32m   7404\u001b[0m             \u001b[1;32mif\u001b[0m \u001b[0mhave_dicts\u001b[0m\u001b[1;33m:\u001b[0m\u001b[1;33m\u001b[0m\u001b[1;33m\u001b[0m\u001b[0m\n",
      "\u001b[1;31mValueError\u001b[0m: arrays must all be same length"
     ]
    }
   ],
   "source": [
    "LOOCV_results_Mink = []\n",
    "X_train, Y_train = read_MNIST(\"data/MNIST_train_small.csv\")\n",
    "classifier = kNN(X_train, Y_train)\n",
    "\n",
    "for p in tqdm(range(1,16)):\n",
    "    classifier.p = p\n",
    "    for k in tqdm(range(1,21)):\n",
    "        Y_pred = classifier.LOOCV(k)\n",
    "        LOOCV_results_Mink.append(accuracy(Y_pred, Y_train))\n",
    "    classifier.inner_distances_calculated = False"
   ]
  },
  {
   "cell_type": "code",
   "execution_count": 7,
   "metadata": {},
   "outputs": [
    {
     "name": "stdout",
     "output_type": "stream",
     "text": [
      "[0.08966666666666667, 0.08966666666666667, 0.09, 0.083, 0.09133333333333334, 0.09033333333333333, 0.097, 0.09066666666666667, 0.09666666666666666, 0.097, 0.09933333333333333, 0.101, 0.103, 0.10233333333333333, 0.10766666666666666, 0.107, 0.10966666666666666, 0.11033333333333334, 0.111, 0.11266666666666666, 0.08066666666666666, 0.08066666666666666, 0.073, 0.073, 0.07833333333333334, 0.079, 0.08166666666666667, 0.08233333333333333, 0.08333333333333333, 0.08866666666666667, 0.088, 0.089, 0.09233333333333334, 0.093, 0.09433333333333334, 0.095, 0.09566666666666666, 0.09566666666666666, 0.098, 0.09833333333333333, 0.07533333333333334, 0.07533333333333334, 0.06633333333333333, 0.069, 0.07333333333333333, 0.07733333333333334, 0.078, 0.07766666666666666, 0.07966666666666666, 0.08366666666666667, 0.08466666666666667, 0.08533333333333333, 0.086, 0.08466666666666667, 0.09133333333333334, 0.09, 0.09333333333333334, 0.09066666666666667, 0.096, 0.09533333333333334, 0.07333333333333333, 0.07333333333333333, 0.06533333333333333, 0.067, 0.06933333333333333, 0.074, 0.07666666666666666, 0.07533333333333334, 0.07566666666666666, 0.077, 0.07766666666666666, 0.08233333333333333, 0.08266666666666667, 0.08066666666666666, 0.08833333333333333, 0.08633333333333333, 0.08833333333333333, 0.08766666666666667, 0.092, 0.09166666666666666, 0.073, 0.073, 0.06133333333333333, 0.06766666666666667, 0.069, 0.06933333333333333, 0.07366666666666667, 0.07366666666666667, 0.07666666666666666, 0.07466666666666667, 0.076, 0.07633333333333334, 0.07966666666666666, 0.07866666666666666, 0.08233333333333333, 0.08233333333333333, 0.08766666666666667, 0.08666666666666667, 0.08766666666666667, 0.09133333333333334, 0.07133333333333333, 0.07133333333333333, 0.061, 0.06566666666666666, 0.06766666666666667, 0.06633333333333333, 0.07233333333333333, 0.07133333333333333, 0.07566666666666666, 0.07233333333333333, 0.07266666666666667, 0.07333333333333333, 0.07733333333333334, 0.07666666666666666, 0.083, 0.081, 0.083, 0.085, 0.08533333333333333, 0.08733333333333333, 0.071, 0.071, 0.058333333333333334, 0.06433333333333334, 0.06566666666666666, 0.066, 0.07066666666666667, 0.07, 0.074, 0.072, 0.07366666666666667, 0.072, 0.07566666666666666, 0.07766666666666666, 0.08133333333333333, 0.08066666666666666, 0.08333333333333333, 0.08166666666666667, 0.084, 0.08666666666666667, 0.9046666666666666, 0.9046666666666666, 0.9063333333333333, 0.9123333333333333, 0.9093333333333333, 0.912, 0.918, 0.9113333333333333, 0.9083333333333333, 0.9053333333333333, 0.9093333333333333, 0.9073333333333333, 0.9066666666666666, 0.9083333333333333, 0.9043333333333333, 0.9036666666666666, 0.905, 0.9023333333333333, 0.9046666666666666, 0.902, 0.901, 0.901, 0.9046666666666666, 0.91, 0.9073333333333333, 0.9066666666666666, 0.903, 0.903, 0.8983333333333333, 0.894, 0.8903333333333333, 0.892, 0.8943333333333333, 0.8976666666666666, 0.897, 0.8973333333333333, 0.896, 0.8976666666666666, 0.8973333333333333, 0.8963333333333333, 0.898, 0.898, 0.8913333333333333, 0.8916666666666667, 0.889, 0.8923333333333333, 0.8916666666666667, 0.897, 0.895, 0.891, 0.888, 0.885, 0.8873333333333333, 0.8846666666666667, 0.8823333333333333, 0.882, 0.8846666666666667, 0.8843333333333333, 0.8863333333333333, 0.888, 0.892, 0.892, 0.892, 0.889, 0.886, 0.8853333333333333, 0.887, 0.8876666666666667, 0.8913333333333333, 0.894, 0.8976666666666666, 0.8963333333333333, 0.8923333333333333, 0.8933333333333333, 0.8946666666666667, 0.897, 0.8956666666666667, 0.8983333333333333, 0.8986666666666666, 0.897, 0.8993333333333333, 0.8993333333333333, 0.8973333333333333, 0.897, 0.8996666666666666, 0.901, 0.8976666666666666, 0.893, 0.8933333333333333, 0.8916666666666667, 0.8993333333333333, 0.899, 0.8973333333333333, 0.896, 0.9016666666666666, 0.9026666666666666, 0.905, 0.905, 0.9053333333333333, 0.9016666666666666, 0.8976666666666666, 0.8976666666666666, 0.8976666666666666, 0.8993333333333333, 0.9046666666666666, 0.902, 0.901, 0.9046666666666666, 0.903, 0.903, 0.903, 0.9046666666666666, 0.9086666666666666, 0.91, 0.9046666666666666, 0.9066666666666666, 0.902, 0.9006666666666666, 0.9056666666666666, 0.9043333333333333, 0.8806666666666667, 0.8806666666666667, 0.8853333333333333, 0.8856666666666667, 0.8863333333333333, 0.8846666666666667, 0.8866666666666667, 0.8816666666666667, 0.883, 0.8813333333333333, 0.881, 0.8783333333333333, 0.8836666666666667, 0.8823333333333333, 0.888, 0.8923333333333333, 0.892, 0.8886666666666667, 0.8896666666666667, 0.883, 0.904, 0.904, 0.9043333333333333, 0.9053333333333333, 0.9066666666666666, 0.9053333333333333, 0.904, 0.9043333333333333, 0.8976666666666666, 0.8963333333333333, 0.8963333333333333, 0.894, 0.8976666666666666, 0.8956666666666667, 0.8933333333333333, 0.8963333333333333, 0.896, 0.8963333333333333, 0.897, 0.8973333333333333]\n"
     ]
    },
    {
     "data": {
      "image/png": "[encoded data removed]",
      "text/plain": [
       "<Figure size 432x288 with 1 Axes>"
      ]
     },
     "metadata": {
      "needs_background": "light"
     },
     "output_type": "display_data"
    }
   ],
   "source": [
    "ax = sns.lineplot(x=[i for i in range(1,301)], y=LOOCV_results_Mink)\n",
    "print(LOOCV_results_Mink)"
   ]
  },
  {
   "cell_type": "code",
   "execution_count": 14,
   "metadata": {},
   "outputs": [
    {
     "data": {
      "image/png": "[encoded data removed]",
      "text/plain": [
       "<Figure size 432x288 with 2 Axes>"
      ]
     },
     "metadata": {
      "needs_background": "light"
     },
     "output_type": "display_data"
    }
   ],
   "source": [
    "ax = sns.heatmap(np.reshape(LOOCV_results_Mink[:140], (7,20)), linewidth=0.5)\n",
    "plt.xlabel('k')\n",
    "plt.ylabel('p')\n",
    "ax.set_xticklabels(range(1,21))\n",
    "ax.set_yticklabels(range(1,8))\n",
    "plt.show()"
   ]
  },
  {
   "cell_type": "code",
   "execution_count": null,
   "metadata": {},
   "outputs": [
    {
     "name": "stderr",
     "output_type": "stream",
     "text": [
      "\n",
      "\n",
      "  0%|          | 0/20 [00:00<?, ?it/s]"
     ]
    },
    {
     "name": "stdout",
     "output_type": "stream",
     "text": [
      "Calculating distances. This could take some time ...\n"
     ]
    }
   ],
   "source": [
    "LOOCV_results_full = []\n",
    "X_train, Y_train = read_MNIST(\"../../MNIST_train.csv\")\n",
    "classifier = kNN(X_train, Y_train)\n",
    "\n",
    "for k in tqdm(range(20,0,-1)):\n",
    "    Y_pred = classifier.LOOCV_big(k)\n",
    "    LOOCV_results_full.append(accuracy(Y_pred, Y_train))\n",
    "\n",
    "ax = sns.lineplot(x=[i for i in range(1,21)], y=LOOCV_results_full)\n",
    "print(LOOCV_results_full)"
   ]
  }
 ],
 "metadata": {
  "kernelspec": {
   "display_name": "Python 3",
   "language": "python",
   "name": "python3"
  },
  "language_info": {
   "codemirror_mode": {
    "name": "ipython",
    "version": 3
   },
   "file_extension": ".py",
   "mimetype": "text/x-python",
   "name": "python",
   "nbconvert_exporter": "python",
   "pygments_lexer": "ipython3",
   "version": "3.7.1"
  }
 },
 "nbformat": 4,
 "nbformat_minor": 2
}
