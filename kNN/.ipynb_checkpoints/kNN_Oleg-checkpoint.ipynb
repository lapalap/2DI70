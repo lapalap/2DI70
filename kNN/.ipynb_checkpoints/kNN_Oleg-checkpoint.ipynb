{
 "cells": [
  {
   "cell_type": "markdown",
   "metadata": {},
   "source": [
    "# k-NN"
   ]
  },
  {
   "cell_type": "markdown",
   "metadata": {},
   "source": [
    "by Kirill Bykov, Oleg Vlasovets, Ilya"
   ]
  },
  {
   "cell_type": "code",
   "execution_count": 1,
   "metadata": {},
   "outputs": [],
   "source": [
    "#imports\n",
    "import pandas as pd #pandas for reading csv file\n",
    "import numpy as np  #numpy for vectorising\n",
    "from random import randrange\n",
    "import seaborn as sns\n",
    "from scipy.spatial import distance_matrix\n",
    "from tqdm import tqdm\n",
    "import warnings\n",
    "from matplotlib.ticker import MaxNLocator\n",
    "import matplotlib.pyplot as plt\n",
    "%matplotlib inline"
   ]
  },
  {
   "cell_type": "code",
   "execution_count": 4,
   "metadata": {
    "collapsed": true
   },
   "outputs": [],
   "source": [
    "def read_MNIST(file_path):\n",
    "    df = pd.read_csv(file_path, header = None)\n",
    "    Y = np.array(df[0])\n",
    "    X = np.array(df.iloc[:,1:])\n",
    "    return X, Y\n",
    "\n",
    "def distance(A, B, metric = \"euclidean\"):\n",
    "    if metric == \"euclidean\":\n",
    "        return np.linalg.norm(A-B)\n",
    "\n",
    "def first_most_frequent(arr):\n",
    "    c = 0\n",
    "    num = arr[0]\n",
    "    for i in arr:\n",
    "        amount_times = arr.count(i)\n",
    "        if amount_times > c:\n",
    "            c = amount_times\n",
    "            num = i\n",
    "    return num\n",
    "\n",
    "def accuracy(Y_pred, Y_true):\n",
    "    return np.mean(1 - np.equal(Y_true, Y_pred, dtype=int))"
   ]
  },
  {
   "cell_type": "code",
   "execution_count": 7,
   "metadata": {
    "collapsed": true
   },
   "outputs": [],
   "source": [
    "class kNN:\n",
    "    \n",
    "    def __init__(self, X_train, Y_train, p = 2):\n",
    "        self.X_train = X_train\n",
    "        self.Y_train = Y_train\n",
    "        self.length = len(X_train)\n",
    "        self.p = p\n",
    "        self.inner_distances_calculated = False\n",
    "\n",
    "    def vote(self, NN):\n",
    "        n = len(NN)\n",
    "        votes = np.zeros(n).astype(int)\n",
    "        for i in range(0, n):\n",
    "            votes[i] = first_most_frequent([self.Y_train[j] for j in NN[i]])\n",
    "        return votes\n",
    "    def set_minkovsky_parameter(self, p):\n",
    "        self.p = p\n",
    "        self.inner_distances_calculated = False\n",
    "    \n",
    "    def predict(self, X_test, k):\n",
    "        n_test = len(X_test)\n",
    "        D = np.zeros((n_test, self.length))\n",
    "        NN = np.zeros((n_test,k)).astype(int)\n",
    "        D = distance_matrix(X_test, self.X_train, self.p)\n",
    "        for i in range(0, n_test):\n",
    "            NN[i] = D[i].argsort()[:k]\n",
    "        return self.vote(NN)\n",
    "    \n",
    "    def LOOCV(self, k):\n",
    "        if not self.inner_distances_calculated:\n",
    "            print(\"Calculating distances. This could take some time ...\")\n",
    "            self.inner_distances = distance_matrix(X_train, X_train, self.p);\n",
    "            self.inner_NN = np.zeros((self.length,self.length)).astype(int)\n",
    "            for i in range(0,self.length):\n",
    "                self.inner_NN[i] = self.inner_distances[i].argsort()\n",
    "            self.inner_distances_calculated = True\n",
    "\n",
    "        return self.vote(self.inner_NN[:,1:k+1])\n",
    "    \n",
    "    def LOOCV_big(self, k):\n",
    "        if not self.inner_distances_calculated or self.inner_NN.shape[1]<k:\n",
    "            print(\"Calculating distances. This could take some time ...\")\n",
    "            self.inner_NN = []\n",
    "            for i in range(self.length):\n",
    "                D = distance_matrix([X_train[i]], X_train, self.p);\n",
    "                NN = D[0].argsort()[1:k+1]\n",
    "                self.inner_NN.append(NN)\n",
    "            self.inner_NN = np.array(self.inner_NN)\n",
    "        \n",
    "        return self.vote(self.inner_NN[:,:k])"
   ]
  },
  {
   "cell_type": "markdown",
   "metadata": {},
   "source": [
    "### a)"
   ]
  },
  {
   "cell_type": "code",
   "execution_count": 5,
   "metadata": {},
   "outputs": [
    {
     "name": "stderr",
     "output_type": "stream",
     "text": [
      "  5%|██                                      | 1/20 [08:49<2:47:48, 529.90s/it]"
     ]
    },
    {
     "ename": "KeyboardInterrupt",
     "evalue": "",
     "output_type": "error",
     "traceback": [
      "\u001b[1;31m---------------------------------------------------------------------------\u001b[0m",
      "\u001b[1;31mKeyboardInterrupt\u001b[0m                         Traceback (most recent call last)",
      "\u001b[1;32m<ipython-input-5-189967666fd4>\u001b[0m in \u001b[0;36m<module>\u001b[1;34m()\u001b[0m\n\u001b[0;32m      6\u001b[0m \u001b[1;33m\u001b[0m\u001b[0m\n\u001b[0;32m      7\u001b[0m \u001b[1;32mfor\u001b[0m \u001b[0mk\u001b[0m \u001b[1;32min\u001b[0m \u001b[0mtqdm\u001b[0m\u001b[1;33m(\u001b[0m\u001b[0mrange\u001b[0m\u001b[1;33m(\u001b[0m\u001b[1;36m1\u001b[0m\u001b[1;33m,\u001b[0m\u001b[1;36m21\u001b[0m\u001b[1;33m)\u001b[0m\u001b[1;33m)\u001b[0m\u001b[1;33m:\u001b[0m\u001b[1;33m\u001b[0m\u001b[0m\n\u001b[1;32m----> 8\u001b[1;33m     \u001b[0mY_pred_test\u001b[0m \u001b[1;33m=\u001b[0m \u001b[0mclassifier\u001b[0m\u001b[1;33m.\u001b[0m\u001b[0mpredict\u001b[0m\u001b[1;33m(\u001b[0m\u001b[0mX_test\u001b[0m\u001b[1;33m,\u001b[0m \u001b[0mk\u001b[0m\u001b[1;33m)\u001b[0m\u001b[1;33m\u001b[0m\u001b[0m\n\u001b[0m\u001b[0;32m      9\u001b[0m     \u001b[0mresults_test\u001b[0m\u001b[1;33m.\u001b[0m\u001b[0mappend\u001b[0m\u001b[1;33m(\u001b[0m\u001b[0maccuracy\u001b[0m\u001b[1;33m(\u001b[0m\u001b[0mY_pred_test\u001b[0m\u001b[1;33m,\u001b[0m \u001b[0mY_test\u001b[0m\u001b[1;33m)\u001b[0m\u001b[1;33m)\u001b[0m\u001b[1;33m\u001b[0m\u001b[0m\n\u001b[0;32m     10\u001b[0m \u001b[1;33m\u001b[0m\u001b[0m\n",
      "\u001b[1;32m<ipython-input-3-ec74963107fd>\u001b[0m in \u001b[0;36mpredict\u001b[1;34m(self, X_test, k)\u001b[0m\n\u001b[0;32m     19\u001b[0m         \u001b[0mD\u001b[0m \u001b[1;33m=\u001b[0m \u001b[0mnp\u001b[0m\u001b[1;33m.\u001b[0m\u001b[0mzeros\u001b[0m\u001b[1;33m(\u001b[0m\u001b[1;33m(\u001b[0m\u001b[0mn_test\u001b[0m\u001b[1;33m,\u001b[0m \u001b[0mself\u001b[0m\u001b[1;33m.\u001b[0m\u001b[0mlength\u001b[0m\u001b[1;33m)\u001b[0m\u001b[1;33m)\u001b[0m\u001b[1;33m\u001b[0m\u001b[0m\n\u001b[0;32m     20\u001b[0m         \u001b[0mNN\u001b[0m \u001b[1;33m=\u001b[0m \u001b[0mnp\u001b[0m\u001b[1;33m.\u001b[0m\u001b[0mzeros\u001b[0m\u001b[1;33m(\u001b[0m\u001b[1;33m(\u001b[0m\u001b[0mn_test\u001b[0m\u001b[1;33m,\u001b[0m\u001b[0mk\u001b[0m\u001b[1;33m)\u001b[0m\u001b[1;33m)\u001b[0m\u001b[1;33m.\u001b[0m\u001b[0mastype\u001b[0m\u001b[1;33m(\u001b[0m\u001b[0mint\u001b[0m\u001b[1;33m)\u001b[0m\u001b[1;33m\u001b[0m\u001b[0m\n\u001b[1;32m---> 21\u001b[1;33m         \u001b[0mD\u001b[0m \u001b[1;33m=\u001b[0m \u001b[0mdistance_matrix\u001b[0m\u001b[1;33m(\u001b[0m\u001b[0mX_test\u001b[0m\u001b[1;33m,\u001b[0m \u001b[0mself\u001b[0m\u001b[1;33m.\u001b[0m\u001b[0mX_train\u001b[0m\u001b[1;33m,\u001b[0m \u001b[0mself\u001b[0m\u001b[1;33m.\u001b[0m\u001b[0mp\u001b[0m\u001b[1;33m)\u001b[0m\u001b[1;33m\u001b[0m\u001b[0m\n\u001b[0m\u001b[0;32m     22\u001b[0m         \u001b[1;32mfor\u001b[0m \u001b[0mi\u001b[0m \u001b[1;32min\u001b[0m \u001b[0mrange\u001b[0m\u001b[1;33m(\u001b[0m\u001b[1;36m0\u001b[0m\u001b[1;33m,\u001b[0m \u001b[0mn_test\u001b[0m\u001b[1;33m)\u001b[0m\u001b[1;33m:\u001b[0m\u001b[1;33m\u001b[0m\u001b[0m\n\u001b[0;32m     23\u001b[0m             \u001b[0mNN\u001b[0m\u001b[1;33m[\u001b[0m\u001b[0mi\u001b[0m\u001b[1;33m]\u001b[0m \u001b[1;33m=\u001b[0m \u001b[0mD\u001b[0m\u001b[1;33m[\u001b[0m\u001b[0mi\u001b[0m\u001b[1;33m]\u001b[0m\u001b[1;33m.\u001b[0m\u001b[0margsort\u001b[0m\u001b[1;33m(\u001b[0m\u001b[1;33m)\u001b[0m\u001b[1;33m[\u001b[0m\u001b[1;33m:\u001b[0m\u001b[0mk\u001b[0m\u001b[1;33m]\u001b[0m\u001b[1;33m\u001b[0m\u001b[0m\n",
      "\u001b[1;32mC:\\Users\\Васек\\Anaconda3\\lib\\site-packages\\scipy\\spatial\\kdtree.py\u001b[0m in \u001b[0;36mdistance_matrix\u001b[1;34m(x, y, p, threshold)\u001b[0m\n\u001b[0;32m    976\u001b[0m         \u001b[1;32mif\u001b[0m \u001b[0mm\u001b[0m \u001b[1;33m<\u001b[0m \u001b[0mn\u001b[0m\u001b[1;33m:\u001b[0m\u001b[1;33m\u001b[0m\u001b[0m\n\u001b[0;32m    977\u001b[0m             \u001b[1;32mfor\u001b[0m \u001b[0mi\u001b[0m \u001b[1;32min\u001b[0m \u001b[0mrange\u001b[0m\u001b[1;33m(\u001b[0m\u001b[0mm\u001b[0m\u001b[1;33m)\u001b[0m\u001b[1;33m:\u001b[0m\u001b[1;33m\u001b[0m\u001b[0m\n\u001b[1;32m--> 978\u001b[1;33m                 \u001b[0mresult\u001b[0m\u001b[1;33m[\u001b[0m\u001b[0mi\u001b[0m\u001b[1;33m,\u001b[0m\u001b[1;33m:\u001b[0m\u001b[1;33m]\u001b[0m \u001b[1;33m=\u001b[0m \u001b[0mminkowski_distance\u001b[0m\u001b[1;33m(\u001b[0m\u001b[0mx\u001b[0m\u001b[1;33m[\u001b[0m\u001b[0mi\u001b[0m\u001b[1;33m]\u001b[0m\u001b[1;33m,\u001b[0m\u001b[0my\u001b[0m\u001b[1;33m,\u001b[0m\u001b[0mp\u001b[0m\u001b[1;33m)\u001b[0m\u001b[1;33m\u001b[0m\u001b[0m\n\u001b[0m\u001b[0;32m    979\u001b[0m         \u001b[1;32melse\u001b[0m\u001b[1;33m:\u001b[0m\u001b[1;33m\u001b[0m\u001b[0m\n\u001b[0;32m    980\u001b[0m             \u001b[1;32mfor\u001b[0m \u001b[0mj\u001b[0m \u001b[1;32min\u001b[0m \u001b[0mrange\u001b[0m\u001b[1;33m(\u001b[0m\u001b[0mn\u001b[0m\u001b[1;33m)\u001b[0m\u001b[1;33m:\u001b[0m\u001b[1;33m\u001b[0m\u001b[0m\n",
      "\u001b[1;32mC:\\Users\\Васек\\Anaconda3\\lib\\site-packages\\scipy\\spatial\\kdtree.py\u001b[0m in \u001b[0;36mminkowski_distance\u001b[1;34m(x, y, p)\u001b[0m\n\u001b[0;32m     72\u001b[0m         \u001b[1;32mreturn\u001b[0m \u001b[0mminkowski_distance_p\u001b[0m\u001b[1;33m(\u001b[0m\u001b[0mx\u001b[0m\u001b[1;33m,\u001b[0m \u001b[0my\u001b[0m\u001b[1;33m,\u001b[0m \u001b[0mp\u001b[0m\u001b[1;33m)\u001b[0m\u001b[1;33m\u001b[0m\u001b[0m\n\u001b[0;32m     73\u001b[0m     \u001b[1;32melse\u001b[0m\u001b[1;33m:\u001b[0m\u001b[1;33m\u001b[0m\u001b[0m\n\u001b[1;32m---> 74\u001b[1;33m         \u001b[1;32mreturn\u001b[0m \u001b[0mminkowski_distance_p\u001b[0m\u001b[1;33m(\u001b[0m\u001b[0mx\u001b[0m\u001b[1;33m,\u001b[0m \u001b[0my\u001b[0m\u001b[1;33m,\u001b[0m \u001b[0mp\u001b[0m\u001b[1;33m)\u001b[0m\u001b[1;33m**\u001b[0m\u001b[1;33m(\u001b[0m\u001b[1;36m1.\u001b[0m\u001b[1;33m/\u001b[0m\u001b[0mp\u001b[0m\u001b[1;33m)\u001b[0m\u001b[1;33m\u001b[0m\u001b[0m\n\u001b[0m\u001b[0;32m     75\u001b[0m \u001b[1;33m\u001b[0m\u001b[0m\n\u001b[0;32m     76\u001b[0m \u001b[1;33m\u001b[0m\u001b[0m\n",
      "\u001b[1;32mC:\\Users\\Васек\\Anaconda3\\lib\\site-packages\\scipy\\spatial\\kdtree.py\u001b[0m in \u001b[0;36mminkowski_distance_p\u001b[1;34m(x, y, p)\u001b[0m\n\u001b[0;32m     44\u001b[0m         \u001b[1;32mreturn\u001b[0m \u001b[0mnp\u001b[0m\u001b[1;33m.\u001b[0m\u001b[0msum\u001b[0m\u001b[1;33m(\u001b[0m\u001b[0mnp\u001b[0m\u001b[1;33m.\u001b[0m\u001b[0mabs\u001b[0m\u001b[1;33m(\u001b[0m\u001b[0my\u001b[0m\u001b[1;33m-\u001b[0m\u001b[0mx\u001b[0m\u001b[1;33m)\u001b[0m\u001b[1;33m,\u001b[0m \u001b[0maxis\u001b[0m\u001b[1;33m=\u001b[0m\u001b[1;33m-\u001b[0m\u001b[1;36m1\u001b[0m\u001b[1;33m)\u001b[0m\u001b[1;33m\u001b[0m\u001b[0m\n\u001b[0;32m     45\u001b[0m     \u001b[1;32melse\u001b[0m\u001b[1;33m:\u001b[0m\u001b[1;33m\u001b[0m\u001b[0m\n\u001b[1;32m---> 46\u001b[1;33m         \u001b[1;32mreturn\u001b[0m \u001b[0mnp\u001b[0m\u001b[1;33m.\u001b[0m\u001b[0msum\u001b[0m\u001b[1;33m(\u001b[0m\u001b[0mnp\u001b[0m\u001b[1;33m.\u001b[0m\u001b[0mabs\u001b[0m\u001b[1;33m(\u001b[0m\u001b[0my\u001b[0m\u001b[1;33m-\u001b[0m\u001b[0mx\u001b[0m\u001b[1;33m)\u001b[0m\u001b[1;33m**\u001b[0m\u001b[0mp\u001b[0m\u001b[1;33m,\u001b[0m \u001b[0maxis\u001b[0m\u001b[1;33m=\u001b[0m\u001b[1;33m-\u001b[0m\u001b[1;36m1\u001b[0m\u001b[1;33m)\u001b[0m\u001b[1;33m\u001b[0m\u001b[0m\n\u001b[0m\u001b[0;32m     47\u001b[0m \u001b[1;33m\u001b[0m\u001b[0m\n\u001b[0;32m     48\u001b[0m \u001b[1;33m\u001b[0m\u001b[0m\n",
      "\u001b[1;31mKeyboardInterrupt\u001b[0m: "
     ]
    }
   ],
   "source": [
    "results_test = []\n",
    "results_train = []\n",
    "X_train, Y_train = read_MNIST(\"MNIST_train_small.csv\")\n",
    "X_test, Y_test = read_MNIST(\"MNIST_test_small.csv\")\n",
    "classifier = kNN(X_train, Y_train)\n",
    "\n",
    "for k in tqdm(range(1,21)):\n",
    "    Y_pred_test = classifier.predict(X_test, k)\n",
    "    results_test.append(accuracy(Y_pred_test, Y_test))\n",
    "    \n",
    "    Y_pred_train = classifier.predict(X_train, k)\n",
    "    results_train.append(accuracy(Y_pred_train, Y_train))\n",
    "\n",
    "ax = sns.lineplot(x=[i for i in range(1,21)], y=results_test, label = 'Test accuracy')\n",
    "ax = sns.lineplot(x=[i for i in range(1,21)], y=results_train, label = 'Train accuracy')\n",
    "ax.yaxis.set_major_locator(MaxNLocator(integer=True))"
   ]
  },
  {
   "cell_type": "markdown",
   "metadata": {},
   "source": [
    "Сделайте только картинку получше"
   ]
  },
  {
   "cell_type": "markdown",
   "metadata": {},
   "source": [
    "## LOOCV"
   ]
  },
  {
   "cell_type": "markdown",
   "metadata": {},
   "source": [
    "*LOOCV* --- метод, который в первый раз считает расстояния между всеми точками, а затем при различных k использует уже посчитанную матрицу расстояний. Так как в памяти храним все расстояния, работает быстро, но только для маленьгоко датасета\n",
    "\n",
    "*LOOCV_big* --- метод для работы с большими датасетами, нужно запускать начиная с максимального k, так как на первом запуске держим в памяти только соседей, и не надо пересчитывать это все для маленьких k"
   ]
  },
  {
   "cell_type": "code",
   "execution_count": 6,
   "metadata": {},
   "outputs": [
    {
     "name": "stderr",
     "output_type": "stream",
     "text": [
      "\r",
      "  0%|                                                   | 0/20 [00:00<?, ?it/s]"
     ]
    },
    {
     "name": "stdout",
     "output_type": "stream",
     "text": [
      "Calculating distances. This could take some time ...\n"
     ]
    },
    {
     "name": "stderr",
     "output_type": "stream",
     "text": [
      "100%|██████████████████████████████████████████| 20/20 [05:56<00:00, 10.16s/it]\n"
     ]
    },
    {
     "name": "stdout",
     "output_type": "stream",
     "text": [
      "[0.08066666666666666, 0.08066666666666666, 0.073, 0.073, 0.07833333333333334, 0.079, 0.08166666666666667, 0.08233333333333333, 0.08333333333333333, 0.08866666666666667, 0.088, 0.089, 0.09233333333333334, 0.093, 0.09433333333333334, 0.095, 0.09566666666666666, 0.09566666666666666, 0.098, 0.09833333333333333]\n"
     ]
    },
    {
     "data": {
      "image/png": "[encoded data removed]",
      "text/plain": [
       "<Figure size 600x400 with 1 Axes>"
      ]
     },
     "metadata": {},
     "output_type": "display_data"
    }
   ],
   "source": [
    "LOOCV_results = []\n",
    "X_train, Y_train = read_MNIST(\"MNIST_train_small.csv\")\n",
    "classifier = kNN(X_train, Y_train)\n",
    "\n",
    "for k in tqdm(range(1,21)):\n",
    "    Y_pred = classifier.LOOCV(k)\n",
    "    LOOCV_results.append(accuracy(Y_pred, Y_train))\n",
    "\n",
    "ax = sns.lineplot(x=[i for i in range(1,21)], y=LOOCV_results)\n",
    "print(LOOCV_results)"
   ]
  },
  {
   "cell_type": "code",
   "execution_count": 9,
   "metadata": {},
   "outputs": [
    {
     "name": "stderr",
     "output_type": "stream",
     "text": [
      "\n",
      "  0%|                                                   | 0/15 [00:00<?, ?it/s]"
     ]
    },
    {
     "name": "stdout",
     "output_type": "stream",
     "text": [
      "Calculating distances. This could take some time ...\n"
     ]
    },
    {
     "name": "stderr",
     "output_type": "stream",
     "text": [
      "\n",
      "  7%|██▊                                       | 1/15 [02:19<32:27, 139.13s/it]"
     ]
    },
    {
     "name": "stdout",
     "output_type": "stream",
     "text": [
      "Calculating distances. This could take some time ...\n"
     ]
    },
    {
     "name": "stderr",
     "output_type": "stream",
     "text": [
      "\n",
      " 13%|█████▌                                    | 2/15 [05:47<34:39, 159.95s/it]"
     ]
    },
    {
     "name": "stdout",
     "output_type": "stream",
     "text": [
      "Calculating distances. This could take some time ...\n"
     ]
    },
    {
     "name": "stderr",
     "output_type": "stream",
     "text": [
      "\n",
      " 20%|████████▍                                 | 3/15 [09:27<35:34, 177.90s/it]"
     ]
    },
    {
     "name": "stdout",
     "output_type": "stream",
     "text": [
      "Calculating distances. This could take some time ...\n"
     ]
    },
    {
     "name": "stderr",
     "output_type": "stream",
     "text": [
      "\n",
      " 27%|███████████▏                              | 4/15 [13:17<35:27, 193.44s/it]"
     ]
    },
    {
     "name": "stdout",
     "output_type": "stream",
     "text": [
      "Calculating distances. This could take some time ...\n"
     ]
    },
    {
     "name": "stderr",
     "output_type": "stream",
     "text": [
      "\n",
      " 33%|██████████████                            | 5/15 [17:06<34:02, 204.26s/it]"
     ]
    },
    {
     "name": "stdout",
     "output_type": "stream",
     "text": [
      "Calculating distances. This could take some time ...\n"
     ]
    },
    {
     "name": "stderr",
     "output_type": "stream",
     "text": [
      "\n",
      " 40%|████████████████▊                         | 6/15 [20:42<31:09, 207.67s/it]"
     ]
    },
    {
     "name": "stdout",
     "output_type": "stream",
     "text": [
      "Calculating distances. This could take some time ...\n"
     ]
    },
    {
     "name": "stderr",
     "output_type": "stream",
     "text": [
      "C:\\Users\\Васек\\Anaconda3\\lib\\site-packages\\scipy\\spatial\\kdtree.py:74: RuntimeWarning: invalid value encountered in power\n",
      "  return minkowski_distance_p(x, y, p)**(1./p)\n",
      "\n",
      " 47%|███████████████████▌                      | 7/15 [24:36<28:46, 215.79s/it]"
     ]
    },
    {
     "name": "stdout",
     "output_type": "stream",
     "text": [
      "Calculating distances. This could take some time ...\n"
     ]
    },
    {
     "name": "stderr",
     "output_type": "stream",
     "text": [
      "\n",
      " 53%|██████████████████████▍                   | 8/15 [28:36<25:59, 222.79s/it]"
     ]
    },
    {
     "name": "stdout",
     "output_type": "stream",
     "text": [
      "Calculating distances. This could take some time ...\n"
     ]
    },
    {
     "name": "stderr",
     "output_type": "stream",
     "text": [
      "\n",
      " 60%|█████████████████████████▏                | 9/15 [32:47<23:08, 231.40s/it]"
     ]
    },
    {
     "name": "stdout",
     "output_type": "stream",
     "text": [
      "Calculating distances. This could take some time ...\n"
     ]
    },
    {
     "name": "stderr",
     "output_type": "stream",
     "text": [
      "\n",
      " 67%|███████████████████████████▎             | 10/15 [36:53<19:38, 235.79s/it]"
     ]
    },
    {
     "name": "stdout",
     "output_type": "stream",
     "text": [
      "Calculating distances. This could take some time ...\n"
     ]
    },
    {
     "name": "stderr",
     "output_type": "stream",
     "text": [
      "\n",
      " 73%|██████████████████████████████           | 11/15 [40:35<15:26, 231.54s/it]"
     ]
    },
    {
     "name": "stdout",
     "output_type": "stream",
     "text": [
      "Calculating distances. This could take some time ...\n"
     ]
    },
    {
     "name": "stderr",
     "output_type": "stream",
     "text": [
      "\n",
      " 80%|████████████████████████████████▊        | 12/15 [44:28<11:35, 231.91s/it]"
     ]
    },
    {
     "name": "stdout",
     "output_type": "stream",
     "text": [
      "Calculating distances. This could take some time ...\n"
     ]
    },
    {
     "name": "stderr",
     "output_type": "stream",
     "text": [
      "\n",
      " 87%|███████████████████████████████████▌     | 13/15 [48:06<07:35, 227.73s/it]"
     ]
    },
    {
     "name": "stdout",
     "output_type": "stream",
     "text": [
      "Calculating distances. This could take some time ...\n"
     ]
    },
    {
     "name": "stderr",
     "output_type": "stream",
     "text": [
      "\n",
      " 93%|██████████████████████████████████████▎  | 14/15 [51:41<03:44, 224.08s/it]"
     ]
    },
    {
     "name": "stdout",
     "output_type": "stream",
     "text": [
      "Calculating distances. This could take some time ...\n"
     ]
    },
    {
     "name": "stderr",
     "output_type": "stream",
     "text": [
      "\n",
      "100%|█████████████████████████████████████████| 15/15 [55:28<00:00, 224.89s/it]"
     ]
    }
   ],
   "source": [
    "LOOCV_results_Mink = []\n",
    "X_train, Y_train = read_MNIST(\"MNIST_train_small.csv\")\n",
    "classifier = kNN(X_train, Y_train)\n",
    "\n",
    "for p in tqdm(range(1,16)):\n",
    "    classifier.set_minkovsky_parameter(p)\n",
    "    for k in range(1,21):\n",
    "        Y_pred = classifier.LOOCV(k)\n",
    "        LOOCV_results_Mink.append(accuracy(Y_pred, Y_train))"
   ]
  },
  {
   "cell_type": "code",
   "execution_count": 11,
   "metadata": {},
   "outputs": [
    {
     "name": "stdout",
     "output_type": "stream",
     "text": [
      "[0.08966666666666667, 0.08966666666666667, 0.09, 0.083, 0.09133333333333334, 0.09033333333333333, 0.097, 0.09066666666666667, 0.09666666666666666, 0.097, 0.09933333333333333, 0.101, 0.103, 0.10233333333333333, 0.10766666666666666, 0.107, 0.10966666666666666, 0.11033333333333334, 0.111, 0.11266666666666666, 0.08066666666666666, 0.08066666666666666, 0.073, 0.073, 0.07833333333333334, 0.079, 0.08166666666666667, 0.08233333333333333, 0.08333333333333333, 0.08866666666666667, 0.088, 0.089, 0.09233333333333334, 0.093, 0.09433333333333334, 0.095, 0.09566666666666666, 0.09566666666666666, 0.098, 0.09833333333333333, 0.07533333333333334, 0.07533333333333334, 0.06633333333333333, 0.069, 0.07333333333333333, 0.07733333333333334, 0.078, 0.07766666666666666, 0.07966666666666666, 0.08366666666666667, 0.08466666666666667, 0.08533333333333333, 0.086, 0.08466666666666667, 0.09133333333333334, 0.09, 0.09333333333333334, 0.09066666666666667, 0.096, 0.09533333333333334, 0.07333333333333333, 0.07333333333333333, 0.06533333333333333, 0.067, 0.06933333333333333, 0.074, 0.07666666666666666, 0.07533333333333334, 0.07566666666666666, 0.077, 0.07766666666666666, 0.08233333333333333, 0.08266666666666667, 0.08066666666666666, 0.08833333333333333, 0.08633333333333333, 0.08833333333333333, 0.08766666666666667, 0.092, 0.09166666666666666, 0.073, 0.073, 0.06133333333333333, 0.06766666666666667, 0.069, 0.06933333333333333, 0.07366666666666667, 0.07366666666666667, 0.07666666666666666, 0.07466666666666667, 0.076, 0.07633333333333334, 0.07966666666666666, 0.07866666666666666, 0.08233333333333333, 0.08233333333333333, 0.08766666666666667, 0.08666666666666667, 0.08766666666666667, 0.09133333333333334, 0.07133333333333333, 0.07133333333333333, 0.061, 0.06566666666666666, 0.06766666666666667, 0.06633333333333333, 0.07233333333333333, 0.07133333333333333, 0.07566666666666666, 0.07233333333333333, 0.07266666666666667, 0.07333333333333333, 0.07733333333333334, 0.07666666666666666, 0.083, 0.081, 0.083, 0.085, 0.08533333333333333, 0.08733333333333333, 0.071, 0.071, 0.058333333333333334, 0.06433333333333334, 0.06566666666666666, 0.066, 0.07066666666666667, 0.07, 0.074, 0.072, 0.07366666666666667, 0.072, 0.07566666666666666, 0.07766666666666666, 0.08133333333333333, 0.08066666666666666, 0.08333333333333333, 0.08166666666666667, 0.084, 0.08666666666666667, 0.9046666666666666, 0.9046666666666666, 0.9063333333333333, 0.9123333333333333, 0.9093333333333333, 0.912, 0.918, 0.9113333333333333, 0.9083333333333333, 0.9053333333333333, 0.9093333333333333, 0.9073333333333333, 0.9066666666666666, 0.9083333333333333, 0.9043333333333333, 0.9036666666666666, 0.905, 0.9023333333333333, 0.9046666666666666, 0.902, 0.901, 0.901, 0.9046666666666666, 0.91, 0.9073333333333333, 0.9066666666666666, 0.903, 0.903, 0.8983333333333333, 0.894, 0.8903333333333333, 0.892, 0.8943333333333333, 0.8976666666666666, 0.897, 0.8973333333333333, 0.896, 0.8976666666666666, 0.8973333333333333, 0.8963333333333333, 0.898, 0.898, 0.8913333333333333, 0.8916666666666667, 0.889, 0.8923333333333333, 0.8916666666666667, 0.897, 0.895, 0.891, 0.888, 0.885, 0.8873333333333333, 0.8846666666666667, 0.8823333333333333, 0.882, 0.8846666666666667, 0.8843333333333333, 0.8863333333333333, 0.888, 0.892, 0.892, 0.892, 0.889, 0.886, 0.8853333333333333, 0.887, 0.8876666666666667, 0.8913333333333333, 0.894, 0.8976666666666666, 0.8963333333333333, 0.8923333333333333, 0.8933333333333333, 0.8946666666666667, 0.897, 0.8956666666666667, 0.8983333333333333, 0.8986666666666666, 0.897, 0.8993333333333333, 0.8993333333333333, 0.8973333333333333, 0.897, 0.8996666666666666, 0.901, 0.8976666666666666, 0.893, 0.8933333333333333, 0.8916666666666667, 0.8993333333333333, 0.899, 0.8973333333333333, 0.896, 0.9016666666666666, 0.9026666666666666, 0.905, 0.905, 0.9053333333333333, 0.9016666666666666, 0.8976666666666666, 0.8976666666666666, 0.8976666666666666, 0.8993333333333333, 0.9046666666666666, 0.902, 0.901, 0.9046666666666666, 0.903, 0.903, 0.903, 0.9046666666666666, 0.9086666666666666, 0.91, 0.9046666666666666, 0.9066666666666666, 0.902, 0.9006666666666666, 0.9056666666666666, 0.9043333333333333, 0.8806666666666667, 0.8806666666666667, 0.8853333333333333, 0.8856666666666667, 0.8863333333333333, 0.8846666666666667, 0.8866666666666667, 0.8816666666666667, 0.883, 0.8813333333333333, 0.881, 0.8783333333333333, 0.8836666666666667, 0.8823333333333333, 0.888, 0.8923333333333333, 0.892, 0.8886666666666667, 0.8896666666666667, 0.883, 0.904, 0.904, 0.9043333333333333, 0.9053333333333333, 0.9066666666666666, 0.9053333333333333, 0.904, 0.9043333333333333, 0.8976666666666666, 0.8963333333333333, 0.8963333333333333, 0.894, 0.8976666666666666, 0.8956666666666667, 0.8933333333333333, 0.8963333333333333, 0.896, 0.8963333333333333, 0.897, 0.8973333333333333]\n"
     ]
    },
    {
     "data": {
      "image/png": "[encoded data removed]",
      "text/plain": [
       "<Figure size 600x400 with 1 Axes>"
      ]
     },
     "metadata": {},
     "output_type": "display_data"
    }
   ],
   "source": [
    "ax = sns.lineplot(x=[i for i in range(1,301)], y=LOOCV_results_Mink)\n",
    "print(LOOCV_results_Mink)"
   ]
  },
  {
   "cell_type": "code",
   "execution_count": 12,
   "metadata": {},
   "outputs": [
    {
     "name": "stderr",
     "output_type": "stream",
     "text": [
      "C:\\Users\\Васек\\Anaconda3\\lib\\site-packages\\pandas\\core\\computation\\check.py:19: UserWarning: The installed version of numexpr 2.5 is not supported in pandas and will be not be used\n",
      "The minimum supported version is 2.6.1\n",
      "\n",
      "  ver=ver, min_ver=_MIN_NUMEXPR_VERSION), UserWarning)\n"
     ]
    },
    {
     "data": {
      "image/png": "[encoded data removed]",
      "text/plain": [
       "<Figure size 600x400 with 2 Axes>"
      ]
     },
     "metadata": {},
     "output_type": "display_data"
    }
   ],
   "source": [
    "ax = sns.heatmap(np.reshape(LOOCV_results_Mink, (15,20)), linewidth=0.5)\n",
    "plt.xlabel('k')\n",
    "plt.ylabel('p')\n",
    "ax.set_xticklabels(range(1,21))\n",
    "ax.set_yticklabels(range(1,16))\n",
    "plt.show()"
   ]
  },
  {
   "cell_type": "code",
   "execution_count": 14,
   "metadata": {},
   "outputs": [
    {
     "name": "stderr",
     "output_type": "stream",
     "text": [
      "\n",
      "  0%|                                                   | 0/20 [00:00<?, ?it/s]\n",
      "  5%|██                                      | 1/20 [04:37<1:27:50, 277.40s/it]\n",
      " 10%|████                                    | 2/20 [08:50<1:21:00, 270.05s/it]\n",
      " 15%|██████                                  | 3/20 [13:02<1:14:58, 264.60s/it]\n",
      " 20%|████████                                | 4/20 [17:12<1:09:24, 260.29s/it]\n",
      " 25%|██████████                              | 5/20 [21:22<1:04:17, 257.15s/it]\n",
      " 30%|████████████▌                             | 6/20 [25:32<59:31, 255.08s/it]\n",
      " 35%|██████████████                          | 7/20 [36:35<1:21:47, 377.48s/it]\n",
      " 40%|████████████████                        | 8/20 [41:04<1:08:57, 344.78s/it]\n",
      " 45%|██████████████████▉                       | 9/20 [45:30<58:53, 321.26s/it]\n",
      " 50%|████████████████████▌                    | 10/20 [49:47<50:19, 301.96s/it]\n",
      " 55%|██████████████████████▌                  | 11/20 [54:33<44:35, 297.32s/it]\n",
      " 60%|████████████████████████▌                | 12/20 [59:02<38:29, 288.72s/it]\n",
      " 65%|█████████████████████████▎             | 13/20 [1:03:34<33:05, 283.58s/it]\n",
      " 70%|███████████████████████████▎           | 14/20 [1:07:54<27:39, 276.60s/it]\n",
      " 75%|█████████████████████████████▎         | 15/20 [1:12:38<23:13, 278.78s/it]\n",
      " 80%|███████████████████████████████▏       | 16/20 [1:16:52<18:05, 271.32s/it]\n",
      " 85%|█████████████████████████████████▏     | 17/20 [1:21:07<13:19, 266.49s/it]\n",
      " 90%|███████████████████████████████████    | 18/20 [1:25:22<08:45, 262.95s/it]\n",
      " 95%|█████████████████████████████████████  | 19/20 [1:29:38<04:20, 260.93s/it]\n",
      "100%|███████████████████████████████████████| 20/20 [1:33:56<00:00, 259.97s/it]"
     ]
    },
    {
     "data": {
      "image/png": "[encoded data removed]",
      "text/plain": [
       "<Figure size 600x400 with 1 Axes>"
      ]
     },
     "metadata": {},
     "output_type": "display_data"
    }
   ],
   "source": [
    "results_test = []\n",
    "results_train = []\n",
    "X_train, Y_train = read_MNIST(\"MNIST_train_small.csv\")\n",
    "X_test, Y_test = read_MNIST(\"MNIST_test_small.csv\")\n",
    "classifier = kNN(X_train, Y_train)\n",
    "\n",
    "for k in tqdm(range(1,21)):\n",
    "    Y_pred_test = classifier.predict(X_test, k)\n",
    "    results_test.append(accuracy(Y_pred_test, Y_test))\n",
    "    \n",
    "    Y_pred_train = classifier.predict(X_train, k)\n",
    "    results_train.append(accuracy(Y_pred_train, Y_train))\n",
    "\n",
    "ax = sns.lineplot(x=[i for i in range(1,21)], y=results_test, label = 'Test accuracy')\n",
    "ax = sns.lineplot(x=[i for i in range(1,21)], y=results_train, label = 'Train accuracy')\n",
    "ax.yaxis.set_major_locator(MaxNLocator(integer=True))"
   ]
  },
  {
   "cell_type": "code",
   "execution_count": 58,
   "metadata": {},
   "outputs": [
    {
     "data": {
      "text/plain": [
       "(3000, 784)"
      ]
     },
     "execution_count": 58,
     "metadata": {},
     "output_type": "execute_result"
    }
   ],
   "source": [
    "X_train.shape"
   ]
  },
  {
   "cell_type": "code",
   "execution_count": 90,
   "metadata": {
    "collapsed": true
   },
   "outputs": [],
   "source": [
    "import matplotlib.pyplot as plt\n",
    "from scipy import stats"
   ]
  },
  {
   "cell_type": "code",
   "execution_count": 91,
   "metadata": {
    "collapsed": true
   },
   "outputs": [],
   "source": [
    "from sklearn.decomposition import PCA"
   ]
  },
  {
   "cell_type": "code",
   "execution_count": 135,
   "metadata": {},
   "outputs": [
    {
     "data": {
      "image/png": "[encoded data removed]",
      "text/plain": [
       "<Figure size 600x400 with 1 Axes>"
      ]
     },
     "metadata": {},
     "output_type": "display_data"
    }
   ],
   "source": [
    "pca = PCA(0.95).fit(X_train) #0.95 - это процент полноты информации (дисперсия)\n",
    "plt.plot(np.cumsum(pca.explained_variance_ratio_))\n",
    "plt.xlabel('number of components')\n",
    "plt.ylabel('cumulative explained variance');"
   ]
  },
  {
   "cell_type": "code",
   "execution_count": 173,
   "metadata": {},
   "outputs": [],
   "source": [
    "pca = PCA(n_components=140)  # project from 784 to 100 dimensions\n",
    "Xproj = pca.fit_transform(X_train)"
   ]
  },
  {
   "cell_type": "code",
   "execution_count": 174,
   "metadata": {
    "scrolled": true
   },
   "outputs": [
    {
     "name": "stdout",
     "output_type": "stream",
     "text": [
      "(3000, 784)\n",
      "(3000, 140)\n"
     ]
    }
   ],
   "source": [
    "print(X_train.shape)\n",
    "print(Xproj.shape)"
   ]
  },
  {
   "cell_type": "code",
   "execution_count": 177,
   "metadata": {
    "collapsed": true
   },
   "outputs": [],
   "source": [
    "approximation = pca.inverse_transform(Xproj)"
   ]
  },
  {
   "cell_type": "code",
   "execution_count": 179,
   "metadata": {},
   "outputs": [
    {
     "data": {
      "image/png": "[encoded data removed]",
      "text/plain": [
       "<Figure size 800x400 with 2 Axes>"
      ]
     },
     "metadata": {},
     "output_type": "display_data"
    }
   ],
   "source": [
    "plt.figure(figsize=(8,4));\n",
    "\n",
    "# Original Image\n",
    "plt.subplot(1, 2, 1);\n",
    "plt.imshow(X_train[1].reshape(28,28),\n",
    "              cmap = plt.cm.gray, interpolation='nearest',\n",
    "              clim=(0, 255));\n",
    "plt.xlabel('784 components', fontsize = 14)\n",
    "plt.title('Original Image', fontsize = 20);\n",
    "\n",
    "# 140 principal components\n",
    "plt.subplot(1, 2, 2);\n",
    "plt.imshow(approximation[1].reshape(28, 28),\n",
    "              cmap = plt.cm.gray, interpolation='nearest',\n",
    "              clim=(0, 255));\n",
    "plt.xlabel('140 components', fontsize = 14)\n",
    "plt.title('95% of Explained Variance', fontsize = 20);"
   ]
  }
 ],
 "metadata": {
  "kernelspec": {
   "display_name": "Python 3",
   "language": "python",
   "name": "python3"
  },
  "language_info": {
   "codemirror_mode": {
    "name": "ipython",
    "version": 3
   },
   "file_extension": ".py",
   "mimetype": "text/x-python",
   "name": "python",
   "nbconvert_exporter": "python",
   "pygments_lexer": "ipython3",
   "version": "3.7.1"
  }
 },
 "nbformat": 4,
 "nbformat_minor": 2
}
