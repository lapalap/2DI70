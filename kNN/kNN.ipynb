{
 "cells": [
  {
   "cell_type": "markdown",
   "metadata": {},
   "source": [
    "# k-NN"
   ]
  },
  {
   "cell_type": "markdown",
   "metadata": {},
   "source": [
    "by Kirill Bykov, Oleg Vlasovets, Ilya"
   ]
  },
  {
   "cell_type": "code",
   "execution_count": 85,
   "metadata": {},
   "outputs": [],
   "source": [
    "#imports\n",
    "import pandas as pd #pandas for reading csv file\n",
    "import numpy as np  #numpy for vectorising\n",
    "from random import randrange\n",
    "import seaborn as sns\n",
    "from tqdm import tqdm\n",
    "%matplotlib inline"
   ]
  },
  {
   "cell_type": "code",
   "execution_count": 86,
   "metadata": {},
   "outputs": [],
   "source": [
    "def read_MNIST(file_path):\n",
    "    df = pd.read_csv(file_path, header = None)\n",
    "    Y = np.array(df[0])\n",
    "    X = np.array(df.iloc[:,1:])\n",
    "    return X, Y\n",
    "\n",
    "def distance(A, B, metric = \"euclidean\"):\n",
    "    if metric == \"euclidean\":\n",
    "        return np.linalg.norm(A-B)\n",
    "\n",
    "def first_most_frequent(arr):\n",
    "    c = 0\n",
    "    num = arr[0]\n",
    "    for i in arr:\n",
    "        amount_times = arr.count(i)\n",
    "        if amount_times > c:\n",
    "            c = amount_times\n",
    "            num = i\n",
    "    return num\n",
    "\n",
    "def vote(NN, Y):\n",
    "    n = len(NN)\n",
    "    votes = np.zeros(n).astype(int)\n",
    "    for i in range(0, n):\n",
    "        votes[i] = first_most_frequent([Y[j] for j in NN[i]])\n",
    "    return votes\n",
    "    \n",
    "        \n",
    "def kNN(X_train, Y_train, X_test, k, metric = \"euclidean\"):\n",
    "    n = len(X_train)\n",
    "    n_test = len(X_test)\n",
    "    D = np.zeros((n_test, n))\n",
    "    NN = np.zeros((n_test,k)).astype(int)\n",
    "    for i in range(0,n_test):\n",
    "        for j in range(0,n):\n",
    "            D[i, j] = distance(X_test[i], X_train[j], metric)\n",
    "        NN[i] = D[i].argsort()[:k]\n",
    "    pred = vote(NN, Y_train)\n",
    "    return pred\n",
    "\n",
    "def accuracy(Y_pred, Y_true):\n",
    "    return np.mean(1 - np.equal(Y_true, Y_pred, dtype=int))"
   ]
  },
  {
   "cell_type": "code",
   "execution_count": 88,
   "metadata": {},
   "outputs": [
    {
     "name": "stderr",
     "output_type": "stream",
     "text": [
      "\n",
      "\n",
      "\n",
      "  0%|          | 0/20 [00:00<?, ?it/s]\u001b[A\u001b[A\u001b[A\n",
      "\n",
      "\n",
      "  5%|▌         | 1/20 [00:52<16:41, 52.72s/it]\u001b[A\u001b[A\u001b[A"
     ]
    },
    {
     "name": "stdout",
     "output_type": "stream",
     "text": [
      "[0.085]\n"
     ]
    },
    {
     "name": "stderr",
     "output_type": "stream",
     "text": [
      "\n",
      "\n",
      "\n",
      " 10%|█         | 2/20 [03:37<25:52, 86.25s/it]\u001b[A\u001b[A\u001b[A"
     ]
    },
    {
     "name": "stdout",
     "output_type": "stream",
     "text": [
      "[0.085, 0.085]\n"
     ]
    },
    {
     "name": "stderr",
     "output_type": "stream",
     "text": [
      "\n",
      "\n",
      "\n",
      " 15%|█▌        | 3/20 [06:02<29:28, 104.02s/it]\u001b[A\u001b[A\u001b[A"
     ]
    },
    {
     "name": "stdout",
     "output_type": "stream",
     "text": [
      "[0.085, 0.085, 0.077]\n"
     ]
    },
    {
     "name": "stderr",
     "output_type": "stream",
     "text": [
      "\n",
      "\n",
      "\n",
      " 20%|██        | 4/20 [07:01<24:05, 90.34s/it] \u001b[A\u001b[A\u001b[A"
     ]
    },
    {
     "name": "stdout",
     "output_type": "stream",
     "text": [
      "[0.085, 0.085, 0.077, 0.076]\n"
     ]
    },
    {
     "name": "stderr",
     "output_type": "stream",
     "text": [
      "\n",
      "\n",
      "\n",
      " 25%|██▌       | 5/20 [07:56<19:58, 79.93s/it]\u001b[A\u001b[A\u001b[A"
     ]
    },
    {
     "name": "stdout",
     "output_type": "stream",
     "text": [
      "[0.085, 0.085, 0.077, 0.076, 0.072]\n"
     ]
    },
    {
     "name": "stderr",
     "output_type": "stream",
     "text": [
      "\n",
      "\n",
      "\n",
      " 30%|███       | 6/20 [08:53<17:01, 72.97s/it]\u001b[A\u001b[A\u001b[A"
     ]
    },
    {
     "name": "stdout",
     "output_type": "stream",
     "text": [
      "[0.085, 0.085, 0.077, 0.076, 0.072, 0.076]\n"
     ]
    },
    {
     "name": "stderr",
     "output_type": "stream",
     "text": [
      "\n",
      "\n",
      "\n",
      " 35%|███▌      | 7/20 [09:47<14:36, 67.42s/it]\u001b[A\u001b[A\u001b[A"
     ]
    },
    {
     "name": "stdout",
     "output_type": "stream",
     "text": [
      "[0.085, 0.085, 0.077, 0.076, 0.072, 0.076, 0.08]\n"
     ]
    },
    {
     "name": "stderr",
     "output_type": "stream",
     "text": [
      "\n",
      "\n",
      "\n",
      " 40%|████      | 8/20 [10:44<12:49, 64.12s/it]\u001b[A\u001b[A\u001b[A"
     ]
    },
    {
     "name": "stdout",
     "output_type": "stream",
     "text": [
      "[0.085, 0.085, 0.077, 0.076, 0.072, 0.076, 0.08, 0.081]\n"
     ]
    },
    {
     "name": "stderr",
     "output_type": "stream",
     "text": [
      "\n",
      "\n",
      "\n",
      " 45%|████▌     | 9/20 [11:38<11:11, 61.09s/it]\u001b[A\u001b[A\u001b[A"
     ]
    },
    {
     "name": "stdout",
     "output_type": "stream",
     "text": [
      "[0.085, 0.085, 0.077, 0.076, 0.072, 0.076, 0.08, 0.081, 0.083]\n"
     ]
    },
    {
     "name": "stderr",
     "output_type": "stream",
     "text": [
      "\n",
      "\n",
      "\n",
      " 50%|█████     | 10/20 [12:31<09:45, 58.56s/it]\u001b[A\u001b[A\u001b[A"
     ]
    },
    {
     "name": "stdout",
     "output_type": "stream",
     "text": [
      "[0.085, 0.085, 0.077, 0.076, 0.072, 0.076, 0.08, 0.081, 0.083, 0.09]\n"
     ]
    },
    {
     "name": "stderr",
     "output_type": "stream",
     "text": [
      "\n",
      "\n",
      "\n",
      " 55%|█████▌    | 11/20 [13:26<08:38, 57.66s/it]\u001b[A\u001b[A\u001b[A"
     ]
    },
    {
     "name": "stdout",
     "output_type": "stream",
     "text": [
      "[0.085, 0.085, 0.077, 0.076, 0.072, 0.076, 0.08, 0.081, 0.083, 0.09, 0.095]\n"
     ]
    },
    {
     "name": "stderr",
     "output_type": "stream",
     "text": [
      "\n",
      "\n",
      "\n",
      " 60%|██████    | 12/20 [14:24<07:40, 57.60s/it]\u001b[A\u001b[A\u001b[A"
     ]
    },
    {
     "name": "stdout",
     "output_type": "stream",
     "text": [
      "[0.085, 0.085, 0.077, 0.076, 0.072, 0.076, 0.08, 0.081, 0.083, 0.09, 0.095, 0.097]\n"
     ]
    },
    {
     "name": "stderr",
     "output_type": "stream",
     "text": [
      "\n",
      "\n",
      "\n",
      " 65%|██████▌   | 13/20 [15:20<06:40, 57.28s/it]\u001b[A\u001b[A\u001b[A"
     ]
    },
    {
     "name": "stdout",
     "output_type": "stream",
     "text": [
      "[0.085, 0.085, 0.077, 0.076, 0.072, 0.076, 0.08, 0.081, 0.083, 0.09, 0.095, 0.097, 0.098]\n"
     ]
    },
    {
     "name": "stderr",
     "output_type": "stream",
     "text": [
      "\n",
      "\n",
      "\n",
      " 70%|███████   | 14/20 [16:17<05:43, 57.28s/it]\u001b[A\u001b[A\u001b[A"
     ]
    },
    {
     "name": "stdout",
     "output_type": "stream",
     "text": [
      "[0.085, 0.085, 0.077, 0.076, 0.072, 0.076, 0.08, 0.081, 0.083, 0.09, 0.095, 0.097, 0.098, 0.103]\n"
     ]
    },
    {
     "name": "stderr",
     "output_type": "stream",
     "text": [
      "\n",
      "\n",
      "\n",
      " 75%|███████▌  | 15/20 [17:13<04:44, 56.90s/it]\u001b[A\u001b[A\u001b[A"
     ]
    },
    {
     "name": "stdout",
     "output_type": "stream",
     "text": [
      "[0.085, 0.085, 0.077, 0.076, 0.072, 0.076, 0.08, 0.081, 0.083, 0.09, 0.095, 0.097, 0.098, 0.103, 0.103]\n"
     ]
    },
    {
     "name": "stderr",
     "output_type": "stream",
     "text": [
      "\n",
      "\n",
      "\n",
      " 80%|████████  | 16/20 [18:07<03:44, 56.04s/it]\u001b[A\u001b[A\u001b[A"
     ]
    },
    {
     "name": "stdout",
     "output_type": "stream",
     "text": [
      "[0.085, 0.085, 0.077, 0.076, 0.072, 0.076, 0.08, 0.081, 0.083, 0.09, 0.095, 0.097, 0.098, 0.103, 0.103, 0.105]\n"
     ]
    },
    {
     "name": "stderr",
     "output_type": "stream",
     "text": [
      "\n",
      "\n",
      "\n",
      " 85%|████████▌ | 17/20 [19:01<02:45, 55.21s/it]\u001b[A\u001b[A\u001b[A"
     ]
    },
    {
     "name": "stdout",
     "output_type": "stream",
     "text": [
      "[0.085, 0.085, 0.077, 0.076, 0.072, 0.076, 0.08, 0.081, 0.083, 0.09, 0.095, 0.097, 0.098, 0.103, 0.103, 0.105, 0.104]\n"
     ]
    },
    {
     "name": "stderr",
     "output_type": "stream",
     "text": [
      "\n",
      "\n",
      "\n",
      " 90%|█████████ | 18/20 [19:54<01:49, 54.60s/it]\u001b[A\u001b[A\u001b[A"
     ]
    },
    {
     "name": "stdout",
     "output_type": "stream",
     "text": [
      "[0.085, 0.085, 0.077, 0.076, 0.072, 0.076, 0.08, 0.081, 0.083, 0.09, 0.095, 0.097, 0.098, 0.103, 0.103, 0.105, 0.104, 0.111]\n"
     ]
    },
    {
     "name": "stderr",
     "output_type": "stream",
     "text": [
      "\n",
      "\n",
      "\n",
      " 95%|█████████▌| 19/20 [20:48<00:54, 54.32s/it]\u001b[A\u001b[A\u001b[A"
     ]
    },
    {
     "name": "stdout",
     "output_type": "stream",
     "text": [
      "[0.085, 0.085, 0.077, 0.076, 0.072, 0.076, 0.08, 0.081, 0.083, 0.09, 0.095, 0.097, 0.098, 0.103, 0.103, 0.105, 0.104, 0.111, 0.112]\n"
     ]
    },
    {
     "name": "stderr",
     "output_type": "stream",
     "text": [
      "\n",
      "\n",
      "\n",
      "100%|██████████| 20/20 [21:44<00:00, 54.83s/it]\u001b[A\u001b[A\u001b[A\n",
      "\n",
      "\n",
      "\u001b[A\u001b[A\u001b[A"
     ]
    },
    {
     "name": "stdout",
     "output_type": "stream",
     "text": [
      "[0.085, 0.085, 0.077, 0.076, 0.072, 0.076, 0.08, 0.081, 0.083, 0.09, 0.095, 0.097, 0.098, 0.103, 0.103, 0.105, 0.104, 0.111, 0.112, 0.113]\n"
     ]
    },
    {
     "data": {
      "image/png": "[encoded data removed]",
      "text/plain": [
       "<Figure size 432x288 with 1 Axes>"
      ]
     },
     "metadata": {
      "needs_background": "light"
     },
     "output_type": "display_data"
    }
   ],
   "source": [
    "results = []\n",
    "for k in tqdm(range(1,21)):\n",
    "    X_train, Y_train = read_MNIST(\"data/MNIST_train_small.csv\")\n",
    "    X_test, Y_test = read_MNIST(\"data/MNIST_test_small.csv\")\n",
    "    Y_pred = kNN(X_train, Y_train, X_test, k)\n",
    "    results.append(accuracy(Y_pred, Y_test))\n",
    "    print(results)\n",
    "\n",
    "ax = sns.lineplot(x=[i for i in range(1,21)], y=results)"
   ]
  },
  {
   "cell_type": "markdown",
   "metadata": {},
   "source": [
    "### Cross-validation"
   ]
  },
  {
   "cell_type": "code",
   "execution_count": 33,
   "metadata": {},
   "outputs": [],
   "source": [
    "def data_split(dataset, folds=3):\n",
    "    dataset_split = np.array([])\n",
    "    dataset_copy = np.array(dataset)\n",
    "    fold_size = int(len(dataset) / folds)\n",
    "    for i in range(folds):\n",
    "        fold = np.array([])\n",
    "        while len(fold) < fold_size:\n",
    "            index = randrange(len(dataset_copy))\n",
    "            fold = np.concatenate((fold,np.delete(dataset_copy, index, None)))\n",
    "        dataset_split = np.concatenate((dataset_split, fold))\n",
    "    return dataset_split"
   ]
  },
  {
   "cell_type": "code",
   "execution_count": 25,
   "metadata": {},
   "outputs": [],
   "source": [
    "X, Y = read_MNIST(\"data/MNIST_train_small.csv\")"
   ]
  }
 ],
 "metadata": {
  "kernelspec": {
   "display_name": "Python 3",
   "language": "python",
   "name": "python3"
  },
  "language_info": {
   "codemirror_mode": {
    "name": "ipython",
    "version": 3
   },
   "file_extension": ".py",
   "mimetype": "text/x-python",
   "name": "python",
   "nbconvert_exporter": "python",
   "pygments_lexer": "ipython3",
   "version": "3.6.7"
  }
 },
 "nbformat": 4,
 "nbformat_minor": 2
}
