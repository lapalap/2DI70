{
 "cells": [
  {
   "cell_type": "markdown",
   "metadata": {},
   "source": [
    "# k-NN"
   ]
  },
  {
   "cell_type": "markdown",
   "metadata": {},
   "source": [
    "by Kirill Bykov, Oleg Vlasovets, Ilya"
   ]
  },
  {
   "cell_type": "code",
   "execution_count": 1,
   "metadata": {},
   "outputs": [],
   "source": [
    "#imports\n",
    "import pandas as pd #pandas for reading csv file\n",
    "import numpy as np  #numpy for vectorising\n",
    "from random import randrange\n",
    "import seaborn as sns\n",
    "from scipy.spatial import distance_matrix\n",
    "from tqdm import tqdm\n",
    "import warnings\n",
    "from matplotlib.ticker import MaxNLocator\n",
    "import matplotlib.pyplot as plt\n",
    "%matplotlib inline"
   ]
  },
  {
   "cell_type": "code",
   "execution_count": 2,
   "metadata": {},
   "outputs": [],
   "source": [
    "def read_MNIST(file_path):\n",
    "    df = pd.read_csv(file_path, header = None)\n",
    "    Y = np.array(df[0])\n",
    "    X = np.array(df.iloc[:,1:])\n",
    "    return X, Y\n",
    "\n",
    "def distance(A, B, metric = \"euclidean\"):\n",
    "    if metric == \"euclidean\":\n",
    "        return np.linalg.norm(A-B)\n",
    "\n",
    "def first_most_frequent(arr):\n",
    "    c = 0\n",
    "    num = arr[0]\n",
    "    for i in arr:\n",
    "        amount_times = arr.count(i)\n",
    "        if amount_times > c:\n",
    "            c = amount_times\n",
    "            num = i\n",
    "    return num\n",
    "\n",
    "def accuracy(Y_pred, Y_true):\n",
    "    return np.mean(1 - np.equal(Y_true, Y_pred, dtype=int))"
   ]
  },
  {
   "cell_type": "code",
   "execution_count": 3,
   "metadata": {},
   "outputs": [],
   "source": [
    "class kNN:\n",
    "    \n",
    "    def __init__(self, X_train, Y_train, p = 2):\n",
    "        self.X_train = X_train\n",
    "        self.Y_train = Y_train\n",
    "        self.length = len(X_train)\n",
    "        self.p = p\n",
    "        self.inner_distances_calculated = False\n",
    "        \n",
    "    def set_minkovsky_parameter(self, p):\n",
    "        self.p = p\n",
    "        self.inner_distances_calculated = False\n",
    "        \n",
    "    def vote(self, NN):\n",
    "        n = len(NN)\n",
    "        votes = np.zeros(n).astype(int)\n",
    "        for i in range(0, n):\n",
    "            votes[i] = first_most_frequent([self.Y_train[j] for j in NN[i]])\n",
    "        return votes\n",
    "    \n",
    "    def predict(self, X_test, k):\n",
    "        n_test = len(X_test)\n",
    "        D = np.zeros((n_test, self.length))\n",
    "        NN = np.zeros((n_test,k)).astype(int)\n",
    "        D = distance_matrix(X_test, self.X_train, self.p)\n",
    "        for i in range(0, n_test):\n",
    "            NN[i] = D[i].argsort()[:k]\n",
    "        return self.vote(NN)\n",
    "    \n",
    "    def LOOCV(self, k):\n",
    "        if not self.inner_distances_calculated:\n",
    "            print(\"Calculating distances. This could take some time ...\")\n",
    "            self.inner_distances = distance_matrix(X_train, X_train, self.p);\n",
    "            self.inner_NN = np.zeros((self.length,self.length)).astype(int)\n",
    "            for i in range(0,self.length):\n",
    "                self.inner_NN[i] = self.inner_distances[i].argsort()\n",
    "            self.inner_distances_calculated = True\n",
    "\n",
    "        return self.vote(self.inner_NN[:,1:k+1])\n",
    "    \n",
    "    def LOOCV_big(self, k):\n",
    "        if not self.inner_distances_calculated or self.inner_NN.shape[1]<k:\n",
    "            print(\"Calculating distances. This could take some time ...\")\n",
    "            self.inner_NN = []\n",
    "            for i in range(self.length):\n",
    "                D = distance_matrix([X_train[i]], X_train, self.p);\n",
    "                NN = D[0].argsort()[1:k+1]\n",
    "                self.inner_NN.append(NN)\n",
    "            self.inner_NN = np.array(self.inner_NN)\n",
    "        \n",
    "        return self.vote(self.inner_NN[:,:k])"
   ]
  },
  {
   "cell_type": "markdown",
   "metadata": {},
   "source": [
    "### a)"
   ]
  },
  {
   "cell_type": "code",
   "execution_count": 4,
   "metadata": {},
   "outputs": [
    {
     "name": "stderr",
     "output_type": "stream",
     "text": [
      "100%|██████████| 20/20 [22:52<00:00, 76.75s/it]\n"
     ]
    },
    {
     "data": {
      "image/png": "[encoded data removed]",
      "text/plain": [
       "<Figure size 432x288 with 1 Axes>"
      ]
     },
     "metadata": {
      "needs_background": "light"
     },
     "output_type": "display_data"
    }
   ],
   "source": [
    "results_test = []\n",
    "results_train = []\n",
    "X_train, Y_train = read_MNIST(\"data/MNIST_train_small.csv\")\n",
    "X_test, Y_test = read_MNIST(\"data/MNIST_test_small.csv\")\n",
    "classifier = kNN(X_train, Y_train)\n",
    "\n",
    "for k in tqdm(range(1,21)):\n",
    "    Y_pred_test = classifier.predict(X_test, k)\n",
    "    results_test.append(accuracy(Y_pred_test, Y_test))\n",
    "    \n",
    "    Y_pred_train = classifier.predict(X_train, k)\n",
    "    results_train.append(accuracy(Y_pred_train, Y_train))\n",
    "\n",
    "ax = sns.lineplot(x=[i for i in range(1,21)], y=results_test, label = 'Test accuracy')\n",
    "ax = sns.lineplot(x=[i for i in range(1,21)], y=results_train, label = 'Train accuracy')\n",
    "ax.yaxis.set_major_locator(MaxNLocator(integer=True))"
   ]
  },
  {
   "cell_type": "markdown",
   "metadata": {},
   "source": [
    "Сделайте только картинку получше"
   ]
  },
  {
   "cell_type": "markdown",
   "metadata": {},
   "source": [
    "## LOOCV"
   ]
  },
  {
   "cell_type": "markdown",
   "metadata": {},
   "source": [
    "*LOOCV* --- метод, который в первый раз считает расстояния между всеми точками, а затем при различных k использует уже посчитанную матрицу расстояний. Так как в памяти храним все расстояния, работает быстро, но только для маленьгоко датасета\n",
    "\n",
    "*LOOCV_big* --- метод для работы с большими датасетами, нужно запускать начиная с максимального k, так как на первом запуске держим в памяти только соседей, и не надо пересчитывать это все для маленьких k"
   ]
  },
  {
   "cell_type": "markdown",
   "metadata": {},
   "source": [
    "### b)"
   ]
  },
  {
   "cell_type": "code",
   "execution_count": 5,
   "metadata": {},
   "outputs": [
    {
     "name": "stderr",
     "output_type": "stream",
     "text": [
      "  0%|          | 0/20 [00:00<?, ?it/s]"
     ]
    },
    {
     "name": "stdout",
     "output_type": "stream",
     "text": [
      "Calculating distances. This could take some time ...\n"
     ]
    },
    {
     "name": "stderr",
     "output_type": "stream",
     "text": [
      "100%|██████████| 20/20 [00:37<00:00,  1.89s/it]\n"
     ]
    },
    {
     "name": "stdout",
     "output_type": "stream",
     "text": [
      "[0.08066666666666666, 0.08066666666666666, 0.073, 0.073, 0.07833333333333334, 0.079, 0.08166666666666667, 0.08233333333333333, 0.08333333333333333, 0.08866666666666667, 0.088, 0.089, 0.09233333333333334, 0.093, 0.09433333333333334, 0.095, 0.09566666666666666, 0.09566666666666666, 0.098, 0.09833333333333333]\n"
     ]
    },
    {
     "data": {
      "image/png": "[encoded data removed]",
      "text/plain": [
       "<Figure size 432x288 with 1 Axes>"
      ]
     },
     "metadata": {
      "needs_background": "light"
     },
     "output_type": "display_data"
    }
   ],
   "source": [
    "LOOCV_results = []\n",
    "X_train, Y_train = read_MNIST(\"data/MNIST_train_small.csv\")\n",
    "classifier = kNN(X_train, Y_train)\n",
    "\n",
    "for k in tqdm(range(1,21)):\n",
    "    Y_pred = classifier.LOOCV(k)\n",
    "    LOOCV_results.append(accuracy(Y_pred, Y_train))\n",
    "\n",
    "ax = sns.lineplot(x=[i for i in range(1,21)], y=LOOCV_results)\n",
    "print(LOOCV_results)"
   ]
  },
  {
   "cell_type": "markdown",
   "metadata": {},
   "source": [
    "### c)"
   ]
  },
  {
   "cell_type": "code",
   "execution_count": 19,
   "metadata": {},
   "outputs": [
    {
     "name": "stderr",
     "output_type": "stream",
     "text": [
      "  0%|          | 0/7 [00:00<?, ?it/s]"
     ]
    },
    {
     "name": "stdout",
     "output_type": "stream",
     "text": [
      "Calculating distances. This could take some time ...\n"
     ]
    },
    {
     "name": "stderr",
     "output_type": "stream",
     "text": [
      " 14%|█▍        | 1/7 [00:29<02:57, 29.60s/it]"
     ]
    },
    {
     "name": "stdout",
     "output_type": "stream",
     "text": [
      "Calculating distances. This could take some time ...\n"
     ]
    },
    {
     "name": "stderr",
     "output_type": "stream",
     "text": [
      " 29%|██▊       | 2/7 [01:06<02:39, 31.93s/it]"
     ]
    },
    {
     "name": "stdout",
     "output_type": "stream",
     "text": [
      "Calculating distances. This could take some time ...\n"
     ]
    },
    {
     "name": "stderr",
     "output_type": "stream",
     "text": [
      " 43%|████▎     | 3/7 [01:54<02:25, 36.47s/it]"
     ]
    },
    {
     "name": "stdout",
     "output_type": "stream",
     "text": [
      "Calculating distances. This could take some time ...\n"
     ]
    },
    {
     "name": "stderr",
     "output_type": "stream",
     "text": [
      " 57%|█████▋    | 4/7 [02:50<02:07, 42.48s/it]"
     ]
    },
    {
     "name": "stdout",
     "output_type": "stream",
     "text": [
      "Calculating distances. This could take some time ...\n"
     ]
    },
    {
     "name": "stderr",
     "output_type": "stream",
     "text": [
      " 71%|███████▏  | 5/7 [03:46<01:32, 46.46s/it]"
     ]
    },
    {
     "name": "stdout",
     "output_type": "stream",
     "text": [
      "Calculating distances. This could take some time ...\n"
     ]
    },
    {
     "name": "stderr",
     "output_type": "stream",
     "text": [
      " 86%|████████▌ | 6/7 [04:43<00:49, 49.80s/it]"
     ]
    },
    {
     "name": "stdout",
     "output_type": "stream",
     "text": [
      "Calculating distances. This could take some time ...\n"
     ]
    },
    {
     "name": "stderr",
     "output_type": "stream",
     "text": [
      "100%|██████████| 7/7 [05:39<00:00, 51.58s/it]\n"
     ]
    }
   ],
   "source": [
    "LOOCV_results_Mink = []\n",
    "X_train, Y_train = read_MNIST(\"data/MNIST_train_small.csv\")\n",
    "classifier = kNN(X_train, Y_train)\n",
    "\n",
    "for p in tqdm(range(1,8)):\n",
    "    classifier.set_minkovsky_parameter(p)\n",
    "    for k in range(1,21):\n",
    "        Y_pred = classifier.LOOCV(k)\n",
    "        LOOCV_results_Mink.append(accuracy(Y_pred, Y_train))"
   ]
  },
  {
   "cell_type": "code",
   "execution_count": 20,
   "metadata": {},
   "outputs": [
    {
     "data": {
      "image/png": "[encoded data removed]",
      "text/plain": [
       "<Figure size 432x288 with 2 Axes>"
      ]
     },
     "metadata": {
      "needs_background": "light"
     },
     "output_type": "display_data"
    }
   ],
   "source": [
    "ax = sns.heatmap(np.reshape(LOOCV_results_Mink,(7,20)), linewidth=0.5)\n",
    "plt.xlabel('k')\n",
    "plt.ylabel('p')\n",
    "ax.set_xticklabels(range(1,21))\n",
    "ax.set_yticklabels(range(1,16))\n",
    "plt.show()"
   ]
  }
 ],
 "metadata": {
  "kernelspec": {
   "display_name": "Python 3",
   "language": "python",
   "name": "python3"
  },
  "language_info": {
   "codemirror_mode": {
    "name": "ipython",
    "version": 3
   },
   "file_extension": ".py",
   "mimetype": "text/x-python",
   "name": "python",
   "nbconvert_exporter": "python",
   "pygments_lexer": "ipython3",
   "version": "3.6.7"
  }
 },
 "nbformat": 4,
 "nbformat_minor": 2
}
