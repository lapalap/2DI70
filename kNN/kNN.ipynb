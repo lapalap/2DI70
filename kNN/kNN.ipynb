{
 "cells": [
  {
   "cell_type": "markdown",
   "metadata": {},
   "source": [
    "# k-NN"
   ]
  },
  {
   "cell_type": "markdown",
   "metadata": {},
   "source": [
    "by Kirill Bykov, Oleg Vlasovets, Ilya"
   ]
  },
  {
   "cell_type": "code",
   "execution_count": 19,
   "metadata": {},
   "outputs": [],
   "source": [
    "#imports\n",
    "import pandas as pd #pandas for reading csv file\n",
    "import numpy as np  #numpy for vectorising"
   ]
  },
  {
   "cell_type": "code",
   "execution_count": 22,
   "metadata": {},
   "outputs": [],
   "source": [
    "def read_MNIST(file_path):\n",
    "    df = pd.read_csv(file_path, header = None)\n",
    "    Y = np.array(df[0])\n",
    "    X = np.array(df.iloc[:,1:])\n",
    "    return X, Y\n",
    "\n",
    "def distance(A, B, metric = \"euclidean\"):\n",
    "    if metric == \"euclidean\":\n",
    "        return np.linalg.norm(A-B)\n",
    "        \n",
    "def kNN(X, Y, k, metric = \"euclidean\"):\n",
    "    n = len(X)                #number of elements\n",
    "    D = np.zeros((n,n))       #matrix of distances\n",
    "    for i in range(0,n):\n",
    "        for j in range(i,n):\n",
    "            D[i,j] = distance() \n",
    "            \n",
    "    "
   ]
  },
  {
   "cell_type": "code",
   "execution_count": 21,
   "metadata": {},
   "outputs": [],
   "source": [
    "X, Y = read_MNIST(\"data/MNIST_train_small.csv\")"
   ]
  },
  {
   "cell_type": "code",
   "execution_count": 25,
   "metadata": {},
   "outputs": [
    {
     "data": {
      "text/plain": [
       "2867.6880932207396"
      ]
     },
     "execution_count": 25,
     "metadata": {},
     "output_type": "execute_result"
    }
   ],
   "source": []
  }
 ],
 "metadata": {
  "kernelspec": {
   "display_name": "Python 3",
   "language": "python",
   "name": "python3"
  },
  "language_info": {
   "codemirror_mode": {
    "name": "ipython",
    "version": 3
   },
   "file_extension": ".py",
   "mimetype": "text/x-python",
   "name": "python",
   "nbconvert_exporter": "python",
   "pygments_lexer": "ipython3",
   "version": "3.6.7"
  }
 },
 "nbformat": 4,
 "nbformat_minor": 2
}
